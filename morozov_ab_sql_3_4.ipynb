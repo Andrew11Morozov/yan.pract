{
  "cells": [
    {
      "cell_type": "markdown",
      "metadata": {
        "id": "view-in-github",
        "colab_type": "text"
      },
      "source": [
        "<a href=\"https://colab.research.google.com/github/Andrew11Morozov/yan.pract/blob/main/morozov_ab_sql_3_4.ipynb\" target=\"_parent\"><img src=\"https://colab.research.google.com/assets/colab-badge.svg\" alt=\"Open In Colab\"/></a>"
      ]
    },
    {
      "cell_type": "markdown",
      "metadata": {
        "id": "mXBmB3DSDYFi"
      },
      "source": [
        "<div style=\"border:solid green 2px; padding: 20px\">\n",
        "    \n",
        "<b>Андрей, привет! Это Александр Матвеевский</b> Я рад тебя видеть на финальном спринте (SQL).\n",
        "\n",
        "---\n",
        "\n",
        "Я буду красить комментарии цветом, пожалуйста, не удаляй их:\n",
        "\n",
        "<div class=\"alert alert-block alert-danger\">✍\n",
        "    \n",
        "\n",
        "__Комментарий от тимлида №1__\n",
        "\n",
        "Такой комментарий нужно исправить обязательно, он критически влияет на удачное выполнение проекта.\n",
        "</div>\n",
        "    \n",
        "---\n",
        "\n",
        "<div class=\"alert alert-block alert-warning\">📝\n",
        "    \n",
        "\n",
        "__Комментарий от тимлида №1__\n",
        "\n",
        "\n",
        "Такой комментарий является рекомендацией или советом. Можешь использовать их на своё усмотрение.\n",
        "</div>\n",
        "\n",
        "---\n",
        "\n",
        "<div class=\"alert alert-block alert-success\">✔️\n",
        "    \n",
        "\n",
        "__Комментарий от тимлида №1__\n",
        "\n",
        "Такой комментарий  говорит о том, что было сделано что-то качественное и правильное =)\n",
        "</div>\n",
        "    \n",
        "---\n",
        "    \n",
        "Предлагаю работать над проектом в диалоге: если у тебя возникают вопросы — пиши об этом в пачке, не стесняйся. Так же, мне будет легче отследить изменения, если ты выделишь свои комментарии:   \n",
        "    \n",
        "<div class=\"alert alert-info\"> <b>Комментарии студента:</b> Например, вот так.</div>\n",
        "    \n",
        "    \n",
        "---"
      ]
    },
    {
      "cell_type": "markdown",
      "metadata": {
        "id": "Mp3wCK6P3M3S"
      },
      "source": [
        "# Учебная финальная работа по SQL\n",
        "\n",
        "## Описание работы\n",
        "\n",
        "Компания купила крупный сервис для чтения книг по подписке. Задача - проанализировать базу данных.\n",
        "\n",
        "В базе данных информация о книгах, издательствах, авторах, а также пользовательские обзоры книг. Эти данные помогут сформулировать ценностное предложение для нового продукта.\n",
        "\n",
        "### Описание данных\n",
        "\n",
        "**Таблица `books`**\n",
        "\n",
        "Содержит данные о книгах:\n",
        "\n",
        "- `book_id` — идентификатор книги;\n",
        "- `author_id` — идентификатор автора;\n",
        "- `title` — название книги;\n",
        "- `num_pages` — количество страниц;\n",
        "- `publication_date` — дата публикации книги;\n",
        "- `publisher_id` — идентификатор издателя.\n",
        "\n",
        "**Таблица `authors`**\n",
        "\n",
        "Содержит данные об авторах:\n",
        "\n",
        "- `author_id` — идентификатор автора;\n",
        "- `author` — имя автора.\n",
        "\n",
        "**Таблица `publishers`**\n",
        "\n",
        "Содержит данные об издательствах:\n",
        "\n",
        "- `publisher_id` — идентификатор издательства;\n",
        "- `publisher` — название издательства;\n",
        "\n",
        "**Таблица `ratings`**\n",
        "\n",
        "Содержит данные о пользовательских оценках книг:\n",
        "\n",
        "- `rating_id` — идентификатор оценки;\n",
        "- `book_id` — идентификатор книги;\n",
        "- `username` — имя пользователя, оставившего оценку;\n",
        "- `rating` — оценка книги.\n",
        "\n",
        "**Таблица `reviews`**\n",
        "\n",
        "Содержит данные о пользовательских обзорах на книги:\n",
        "\n",
        "- `review_id` — идентификатор обзора;\n",
        "- `book_id` — идентификатор книги;\n",
        "- `username` — имя пользователя, написавшего обзор;\n",
        "- `text` — текст обзора.\n",
        "\n",
        "\n",
        "### Цели исследования\n",
        "\n",
        "- Изучение базы данных;\n",
        "- Анализ базы данных;\n",
        "- выполнение запросов для решения каждого задания:\n",
        "\n",
        "    - Посчитайте, сколько книг вышло после 1 января 2000 года;\n",
        "    - Для каждой книги посчитайте количество обзоров и среднюю оценку;\n",
        "    - Определите издательство, которое выпустило наибольшее число книг толще 50 страниц — так вы исключите из анализа брошюры;\n",
        "    - Определите автора с самой высокой средней оценкой книг — учитывайте только книги с 50 и более оценками;\n",
        "    - Посчитайте среднее количество обзоров от пользователей, которые поставили больше 50 оценок."
      ]
    },
    {
      "cell_type": "markdown",
      "metadata": {
        "id": "aH0vxnNnDYFu"
      },
      "source": [
        "<div class=\"alert alert-block alert-success\">✔️\n",
        "    \n",
        "\n",
        "__Комментарий от тимлида №1__\n",
        "\n",
        "Здорово, что не забываешь про оформление проекта\n",
        "</div>"
      ]
    },
    {
      "cell_type": "markdown",
      "metadata": {
        "id": "J5pjCgk0DYFv"
      },
      "source": [
        "<div class=\"alert alert-info\"> <b>Комментарии студента:</b> Принял.</div>"
      ]
    },
    {
      "cell_type": "markdown",
      "metadata": {
        "id": "rvYZ__M_3OzW"
      },
      "source": [
        "## Изучение баз данных\n",
        "\n",
        "### Загрузка библиотек и параметров подключения"
      ]
    },
    {
      "cell_type": "code",
      "execution_count": null,
      "metadata": {
        "id": "l1vfrnZsIBxZ"
      },
      "outputs": [],
      "source": [
        "# импортируем библиотеки\n",
        "import pandas as pd\n",
        "from sqlalchemy import create_engine\n",
        "# устанавливаем параметры\n",
        "db_config = {'user': 'praktikum_student', # имя пользователя\n",
        "'pwd': 'Sdf4$2;d-d30pp', # пароль\n",
        "'host': 'rc1b-wcoijxj3yxfsf3fs.mdb.yandexcloud.net',\n",
        "'port': 6432, # порт подключения\n",
        "'db': 'data-analyst-final-project-db'} # название базы данных\n",
        "connection_string = 'postgresql://{}:{}@{}:{}/{}'.format(db_config['user'],\n",
        " db_config['pwd'],\n",
        " db_config['host'],\n",
        " db_config['port'],\n",
        " db_config['db'])\n",
        "# сохраняем коннектор\n",
        "engine = create_engine(connection_string, connect_args={'sslmode':'require'})\n"
      ]
    },
    {
      "cell_type": "markdown",
      "metadata": {
        "id": "X91I8EsL7ZRl"
      },
      "source": [
        "### Просмотр всех баз данных\n",
        "\n",
        "Для более глубокого осмысления данных осматриваю данные в два этапа. Сначала весь файл, затем только первую строку. На первом этапе понимаю сколько строк содержит база. "
      ]
    },
    {
      "cell_type": "code",
      "execution_count": null,
      "metadata": {
        "colab": {
          "base_uri": "https://localhost:8080/",
          "height": 424
        },
        "id": "nd25C4ln7Tya",
        "outputId": "dfb910e6-4f1f-4fdc-9213-a853340ec91a"
      },
      "outputs": [
        {
          "output_type": "execute_result",
          "data": {
            "text/plain": [
              "     book_id  author_id                                              title  \\\n",
              "0          1        546                                       'Salem's Lot   \n",
              "1          2        465                 1 000 Places to See Before You Die   \n",
              "2          3        407  13 Little Blue Envelopes (Little Blue Envelope...   \n",
              "3          4         82  1491: New Revelations of the Americas Before C...   \n",
              "4          5        125                                               1776   \n",
              "..       ...        ...                                                ...   \n",
              "995      996        571           Wyrd Sisters (Discworld  #6; Witches #2)   \n",
              "996      997        454                        Xenocide (Ender's Saga  #3)   \n",
              "997      998        201                                    Year of Wonders   \n",
              "998      999         94                        You Suck (A Love Story  #2)   \n",
              "999     1000        509  Zen and the Art of Motorcycle Maintenance: An ...   \n",
              "\n",
              "     num_pages publication_date  publisher_id  \n",
              "0          594       2005-11-01            93  \n",
              "1          992       2003-05-22           336  \n",
              "2          322       2010-12-21           135  \n",
              "3          541       2006-10-10           309  \n",
              "4          386       2006-07-04           268  \n",
              "..         ...              ...           ...  \n",
              "995        265       2001-02-06           147  \n",
              "996        592       1996-07-15           297  \n",
              "997        358       2002-04-30           212  \n",
              "998        328       2007-01-16           331  \n",
              "999        540       2006-04-25           143  \n",
              "\n",
              "[1000 rows x 6 columns]"
            ],
            "text/html": [
              "\n",
              "  <div id=\"df-f615e3ae-79fc-47a3-b90a-b9d570cccb9f\">\n",
              "    <div class=\"colab-df-container\">\n",
              "      <div>\n",
              "<style scoped>\n",
              "    .dataframe tbody tr th:only-of-type {\n",
              "        vertical-align: middle;\n",
              "    }\n",
              "\n",
              "    .dataframe tbody tr th {\n",
              "        vertical-align: top;\n",
              "    }\n",
              "\n",
              "    .dataframe thead th {\n",
              "        text-align: right;\n",
              "    }\n",
              "</style>\n",
              "<table border=\"1\" class=\"dataframe\">\n",
              "  <thead>\n",
              "    <tr style=\"text-align: right;\">\n",
              "      <th></th>\n",
              "      <th>book_id</th>\n",
              "      <th>author_id</th>\n",
              "      <th>title</th>\n",
              "      <th>num_pages</th>\n",
              "      <th>publication_date</th>\n",
              "      <th>publisher_id</th>\n",
              "    </tr>\n",
              "  </thead>\n",
              "  <tbody>\n",
              "    <tr>\n",
              "      <th>0</th>\n",
              "      <td>1</td>\n",
              "      <td>546</td>\n",
              "      <td>'Salem's Lot</td>\n",
              "      <td>594</td>\n",
              "      <td>2005-11-01</td>\n",
              "      <td>93</td>\n",
              "    </tr>\n",
              "    <tr>\n",
              "      <th>1</th>\n",
              "      <td>2</td>\n",
              "      <td>465</td>\n",
              "      <td>1 000 Places to See Before You Die</td>\n",
              "      <td>992</td>\n",
              "      <td>2003-05-22</td>\n",
              "      <td>336</td>\n",
              "    </tr>\n",
              "    <tr>\n",
              "      <th>2</th>\n",
              "      <td>3</td>\n",
              "      <td>407</td>\n",
              "      <td>13 Little Blue Envelopes (Little Blue Envelope...</td>\n",
              "      <td>322</td>\n",
              "      <td>2010-12-21</td>\n",
              "      <td>135</td>\n",
              "    </tr>\n",
              "    <tr>\n",
              "      <th>3</th>\n",
              "      <td>4</td>\n",
              "      <td>82</td>\n",
              "      <td>1491: New Revelations of the Americas Before C...</td>\n",
              "      <td>541</td>\n",
              "      <td>2006-10-10</td>\n",
              "      <td>309</td>\n",
              "    </tr>\n",
              "    <tr>\n",
              "      <th>4</th>\n",
              "      <td>5</td>\n",
              "      <td>125</td>\n",
              "      <td>1776</td>\n",
              "      <td>386</td>\n",
              "      <td>2006-07-04</td>\n",
              "      <td>268</td>\n",
              "    </tr>\n",
              "    <tr>\n",
              "      <th>...</th>\n",
              "      <td>...</td>\n",
              "      <td>...</td>\n",
              "      <td>...</td>\n",
              "      <td>...</td>\n",
              "      <td>...</td>\n",
              "      <td>...</td>\n",
              "    </tr>\n",
              "    <tr>\n",
              "      <th>995</th>\n",
              "      <td>996</td>\n",
              "      <td>571</td>\n",
              "      <td>Wyrd Sisters (Discworld  #6; Witches #2)</td>\n",
              "      <td>265</td>\n",
              "      <td>2001-02-06</td>\n",
              "      <td>147</td>\n",
              "    </tr>\n",
              "    <tr>\n",
              "      <th>996</th>\n",
              "      <td>997</td>\n",
              "      <td>454</td>\n",
              "      <td>Xenocide (Ender's Saga  #3)</td>\n",
              "      <td>592</td>\n",
              "      <td>1996-07-15</td>\n",
              "      <td>297</td>\n",
              "    </tr>\n",
              "    <tr>\n",
              "      <th>997</th>\n",
              "      <td>998</td>\n",
              "      <td>201</td>\n",
              "      <td>Year of Wonders</td>\n",
              "      <td>358</td>\n",
              "      <td>2002-04-30</td>\n",
              "      <td>212</td>\n",
              "    </tr>\n",
              "    <tr>\n",
              "      <th>998</th>\n",
              "      <td>999</td>\n",
              "      <td>94</td>\n",
              "      <td>You Suck (A Love Story  #2)</td>\n",
              "      <td>328</td>\n",
              "      <td>2007-01-16</td>\n",
              "      <td>331</td>\n",
              "    </tr>\n",
              "    <tr>\n",
              "      <th>999</th>\n",
              "      <td>1000</td>\n",
              "      <td>509</td>\n",
              "      <td>Zen and the Art of Motorcycle Maintenance: An ...</td>\n",
              "      <td>540</td>\n",
              "      <td>2006-04-25</td>\n",
              "      <td>143</td>\n",
              "    </tr>\n",
              "  </tbody>\n",
              "</table>\n",
              "<p>1000 rows × 6 columns</p>\n",
              "</div>\n",
              "      <button class=\"colab-df-convert\" onclick=\"convertToInteractive('df-f615e3ae-79fc-47a3-b90a-b9d570cccb9f')\"\n",
              "              title=\"Convert this dataframe to an interactive table.\"\n",
              "              style=\"display:none;\">\n",
              "        \n",
              "  <svg xmlns=\"http://www.w3.org/2000/svg\" height=\"24px\"viewBox=\"0 0 24 24\"\n",
              "       width=\"24px\">\n",
              "    <path d=\"M0 0h24v24H0V0z\" fill=\"none\"/>\n",
              "    <path d=\"M18.56 5.44l.94 2.06.94-2.06 2.06-.94-2.06-.94-.94-2.06-.94 2.06-2.06.94zm-11 1L8.5 8.5l.94-2.06 2.06-.94-2.06-.94L8.5 2.5l-.94 2.06-2.06.94zm10 10l.94 2.06.94-2.06 2.06-.94-2.06-.94-.94-2.06-.94 2.06-2.06.94z\"/><path d=\"M17.41 7.96l-1.37-1.37c-.4-.4-.92-.59-1.43-.59-.52 0-1.04.2-1.43.59L10.3 9.45l-7.72 7.72c-.78.78-.78 2.05 0 2.83L4 21.41c.39.39.9.59 1.41.59.51 0 1.02-.2 1.41-.59l7.78-7.78 2.81-2.81c.8-.78.8-2.07 0-2.86zM5.41 20L4 18.59l7.72-7.72 1.47 1.35L5.41 20z\"/>\n",
              "  </svg>\n",
              "      </button>\n",
              "      \n",
              "  <style>\n",
              "    .colab-df-container {\n",
              "      display:flex;\n",
              "      flex-wrap:wrap;\n",
              "      gap: 12px;\n",
              "    }\n",
              "\n",
              "    .colab-df-convert {\n",
              "      background-color: #E8F0FE;\n",
              "      border: none;\n",
              "      border-radius: 50%;\n",
              "      cursor: pointer;\n",
              "      display: none;\n",
              "      fill: #1967D2;\n",
              "      height: 32px;\n",
              "      padding: 0 0 0 0;\n",
              "      width: 32px;\n",
              "    }\n",
              "\n",
              "    .colab-df-convert:hover {\n",
              "      background-color: #E2EBFA;\n",
              "      box-shadow: 0px 1px 2px rgba(60, 64, 67, 0.3), 0px 1px 3px 1px rgba(60, 64, 67, 0.15);\n",
              "      fill: #174EA6;\n",
              "    }\n",
              "\n",
              "    [theme=dark] .colab-df-convert {\n",
              "      background-color: #3B4455;\n",
              "      fill: #D2E3FC;\n",
              "    }\n",
              "\n",
              "    [theme=dark] .colab-df-convert:hover {\n",
              "      background-color: #434B5C;\n",
              "      box-shadow: 0px 1px 3px 1px rgba(0, 0, 0, 0.15);\n",
              "      filter: drop-shadow(0px 1px 2px rgba(0, 0, 0, 0.3));\n",
              "      fill: #FFFFFF;\n",
              "    }\n",
              "  </style>\n",
              "\n",
              "      <script>\n",
              "        const buttonEl =\n",
              "          document.querySelector('#df-f615e3ae-79fc-47a3-b90a-b9d570cccb9f button.colab-df-convert');\n",
              "        buttonEl.style.display =\n",
              "          google.colab.kernel.accessAllowed ? 'block' : 'none';\n",
              "\n",
              "        async function convertToInteractive(key) {\n",
              "          const element = document.querySelector('#df-f615e3ae-79fc-47a3-b90a-b9d570cccb9f');\n",
              "          const dataTable =\n",
              "            await google.colab.kernel.invokeFunction('convertToInteractive',\n",
              "                                                     [key], {});\n",
              "          if (!dataTable) return;\n",
              "\n",
              "          const docLinkHtml = 'Like what you see? Visit the ' +\n",
              "            '<a target=\"_blank\" href=https://colab.research.google.com/notebooks/data_table.ipynb>data table notebook</a>'\n",
              "            + ' to learn more about interactive tables.';\n",
              "          element.innerHTML = '';\n",
              "          dataTable['output_type'] = 'display_data';\n",
              "          await google.colab.output.renderOutput(dataTable, element);\n",
              "          const docLink = document.createElement('div');\n",
              "          docLink.innerHTML = docLinkHtml;\n",
              "          element.appendChild(docLink);\n",
              "        }\n",
              "      </script>\n",
              "    </div>\n",
              "  </div>\n",
              "  "
            ]
          },
          "metadata": {},
          "execution_count": 2
        }
      ],
      "source": [
        "query = \"\"\" SELECT * FROM books \"\"\"\n",
        "# чтобы выполнить SQL-запрос, используем Pandas\n",
        "pd.io.sql.read_sql(query, con = engine)"
      ]
    },
    {
      "cell_type": "code",
      "execution_count": null,
      "metadata": {
        "colab": {
          "base_uri": "https://localhost:8080/",
          "height": 81
        },
        "id": "E6S212ES55cQ",
        "outputId": "39b5729f-d043-46d6-85eb-139aa7631d69"
      },
      "outputs": [
        {
          "output_type": "execute_result",
          "data": {
            "text/plain": [
              "   book_id  author_id         title  num_pages publication_date  publisher_id\n",
              "0        1        546  'Salem's Lot        594       2005-11-01            93"
            ],
            "text/html": [
              "\n",
              "  <div id=\"df-0ffbdbee-44e2-4d88-a0a6-53898b8e1c3b\">\n",
              "    <div class=\"colab-df-container\">\n",
              "      <div>\n",
              "<style scoped>\n",
              "    .dataframe tbody tr th:only-of-type {\n",
              "        vertical-align: middle;\n",
              "    }\n",
              "\n",
              "    .dataframe tbody tr th {\n",
              "        vertical-align: top;\n",
              "    }\n",
              "\n",
              "    .dataframe thead th {\n",
              "        text-align: right;\n",
              "    }\n",
              "</style>\n",
              "<table border=\"1\" class=\"dataframe\">\n",
              "  <thead>\n",
              "    <tr style=\"text-align: right;\">\n",
              "      <th></th>\n",
              "      <th>book_id</th>\n",
              "      <th>author_id</th>\n",
              "      <th>title</th>\n",
              "      <th>num_pages</th>\n",
              "      <th>publication_date</th>\n",
              "      <th>publisher_id</th>\n",
              "    </tr>\n",
              "  </thead>\n",
              "  <tbody>\n",
              "    <tr>\n",
              "      <th>0</th>\n",
              "      <td>1</td>\n",
              "      <td>546</td>\n",
              "      <td>'Salem's Lot</td>\n",
              "      <td>594</td>\n",
              "      <td>2005-11-01</td>\n",
              "      <td>93</td>\n",
              "    </tr>\n",
              "  </tbody>\n",
              "</table>\n",
              "</div>\n",
              "      <button class=\"colab-df-convert\" onclick=\"convertToInteractive('df-0ffbdbee-44e2-4d88-a0a6-53898b8e1c3b')\"\n",
              "              title=\"Convert this dataframe to an interactive table.\"\n",
              "              style=\"display:none;\">\n",
              "        \n",
              "  <svg xmlns=\"http://www.w3.org/2000/svg\" height=\"24px\"viewBox=\"0 0 24 24\"\n",
              "       width=\"24px\">\n",
              "    <path d=\"M0 0h24v24H0V0z\" fill=\"none\"/>\n",
              "    <path d=\"M18.56 5.44l.94 2.06.94-2.06 2.06-.94-2.06-.94-.94-2.06-.94 2.06-2.06.94zm-11 1L8.5 8.5l.94-2.06 2.06-.94-2.06-.94L8.5 2.5l-.94 2.06-2.06.94zm10 10l.94 2.06.94-2.06 2.06-.94-2.06-.94-.94-2.06-.94 2.06-2.06.94z\"/><path d=\"M17.41 7.96l-1.37-1.37c-.4-.4-.92-.59-1.43-.59-.52 0-1.04.2-1.43.59L10.3 9.45l-7.72 7.72c-.78.78-.78 2.05 0 2.83L4 21.41c.39.39.9.59 1.41.59.51 0 1.02-.2 1.41-.59l7.78-7.78 2.81-2.81c.8-.78.8-2.07 0-2.86zM5.41 20L4 18.59l7.72-7.72 1.47 1.35L5.41 20z\"/>\n",
              "  </svg>\n",
              "      </button>\n",
              "      \n",
              "  <style>\n",
              "    .colab-df-container {\n",
              "      display:flex;\n",
              "      flex-wrap:wrap;\n",
              "      gap: 12px;\n",
              "    }\n",
              "\n",
              "    .colab-df-convert {\n",
              "      background-color: #E8F0FE;\n",
              "      border: none;\n",
              "      border-radius: 50%;\n",
              "      cursor: pointer;\n",
              "      display: none;\n",
              "      fill: #1967D2;\n",
              "      height: 32px;\n",
              "      padding: 0 0 0 0;\n",
              "      width: 32px;\n",
              "    }\n",
              "\n",
              "    .colab-df-convert:hover {\n",
              "      background-color: #E2EBFA;\n",
              "      box-shadow: 0px 1px 2px rgba(60, 64, 67, 0.3), 0px 1px 3px 1px rgba(60, 64, 67, 0.15);\n",
              "      fill: #174EA6;\n",
              "    }\n",
              "\n",
              "    [theme=dark] .colab-df-convert {\n",
              "      background-color: #3B4455;\n",
              "      fill: #D2E3FC;\n",
              "    }\n",
              "\n",
              "    [theme=dark] .colab-df-convert:hover {\n",
              "      background-color: #434B5C;\n",
              "      box-shadow: 0px 1px 3px 1px rgba(0, 0, 0, 0.15);\n",
              "      filter: drop-shadow(0px 1px 2px rgba(0, 0, 0, 0.3));\n",
              "      fill: #FFFFFF;\n",
              "    }\n",
              "  </style>\n",
              "\n",
              "      <script>\n",
              "        const buttonEl =\n",
              "          document.querySelector('#df-0ffbdbee-44e2-4d88-a0a6-53898b8e1c3b button.colab-df-convert');\n",
              "        buttonEl.style.display =\n",
              "          google.colab.kernel.accessAllowed ? 'block' : 'none';\n",
              "\n",
              "        async function convertToInteractive(key) {\n",
              "          const element = document.querySelector('#df-0ffbdbee-44e2-4d88-a0a6-53898b8e1c3b');\n",
              "          const dataTable =\n",
              "            await google.colab.kernel.invokeFunction('convertToInteractive',\n",
              "                                                     [key], {});\n",
              "          if (!dataTable) return;\n",
              "\n",
              "          const docLinkHtml = 'Like what you see? Visit the ' +\n",
              "            '<a target=\"_blank\" href=https://colab.research.google.com/notebooks/data_table.ipynb>data table notebook</a>'\n",
              "            + ' to learn more about interactive tables.';\n",
              "          element.innerHTML = '';\n",
              "          dataTable['output_type'] = 'display_data';\n",
              "          await google.colab.output.renderOutput(dataTable, element);\n",
              "          const docLink = document.createElement('div');\n",
              "          docLink.innerHTML = docLinkHtml;\n",
              "          element.appendChild(docLink);\n",
              "        }\n",
              "      </script>\n",
              "    </div>\n",
              "  </div>\n",
              "  "
            ]
          },
          "metadata": {},
          "execution_count": 3
        }
      ],
      "source": [
        "query = \"\"\" SELECT * \n",
        "            FROM books\n",
        "            LIMIT 1 \"\"\"\n",
        "# чтобы выполнить SQL-запрос, используем Pandas\n",
        "pd.io.sql.read_sql(query, con = engine)"
      ]
    },
    {
      "cell_type": "code",
      "execution_count": null,
      "metadata": {
        "colab": {
          "base_uri": "https://localhost:8080/",
          "height": 81
        },
        "id": "Ua37COM9LHNO",
        "outputId": "e1783b13-9544-4648-91a8-8e92ad2bc9f5"
      },
      "outputs": [
        {
          "output_type": "execute_result",
          "data": {
            "text/plain": [
              "   author_id      author\n",
              "0          1  A.S. Byatt"
            ],
            "text/html": [
              "\n",
              "  <div id=\"df-7c80db24-9117-4179-a859-61a9376af00c\">\n",
              "    <div class=\"colab-df-container\">\n",
              "      <div>\n",
              "<style scoped>\n",
              "    .dataframe tbody tr th:only-of-type {\n",
              "        vertical-align: middle;\n",
              "    }\n",
              "\n",
              "    .dataframe tbody tr th {\n",
              "        vertical-align: top;\n",
              "    }\n",
              "\n",
              "    .dataframe thead th {\n",
              "        text-align: right;\n",
              "    }\n",
              "</style>\n",
              "<table border=\"1\" class=\"dataframe\">\n",
              "  <thead>\n",
              "    <tr style=\"text-align: right;\">\n",
              "      <th></th>\n",
              "      <th>author_id</th>\n",
              "      <th>author</th>\n",
              "    </tr>\n",
              "  </thead>\n",
              "  <tbody>\n",
              "    <tr>\n",
              "      <th>0</th>\n",
              "      <td>1</td>\n",
              "      <td>A.S. Byatt</td>\n",
              "    </tr>\n",
              "  </tbody>\n",
              "</table>\n",
              "</div>\n",
              "      <button class=\"colab-df-convert\" onclick=\"convertToInteractive('df-7c80db24-9117-4179-a859-61a9376af00c')\"\n",
              "              title=\"Convert this dataframe to an interactive table.\"\n",
              "              style=\"display:none;\">\n",
              "        \n",
              "  <svg xmlns=\"http://www.w3.org/2000/svg\" height=\"24px\"viewBox=\"0 0 24 24\"\n",
              "       width=\"24px\">\n",
              "    <path d=\"M0 0h24v24H0V0z\" fill=\"none\"/>\n",
              "    <path d=\"M18.56 5.44l.94 2.06.94-2.06 2.06-.94-2.06-.94-.94-2.06-.94 2.06-2.06.94zm-11 1L8.5 8.5l.94-2.06 2.06-.94-2.06-.94L8.5 2.5l-.94 2.06-2.06.94zm10 10l.94 2.06.94-2.06 2.06-.94-2.06-.94-.94-2.06-.94 2.06-2.06.94z\"/><path d=\"M17.41 7.96l-1.37-1.37c-.4-.4-.92-.59-1.43-.59-.52 0-1.04.2-1.43.59L10.3 9.45l-7.72 7.72c-.78.78-.78 2.05 0 2.83L4 21.41c.39.39.9.59 1.41.59.51 0 1.02-.2 1.41-.59l7.78-7.78 2.81-2.81c.8-.78.8-2.07 0-2.86zM5.41 20L4 18.59l7.72-7.72 1.47 1.35L5.41 20z\"/>\n",
              "  </svg>\n",
              "      </button>\n",
              "      \n",
              "  <style>\n",
              "    .colab-df-container {\n",
              "      display:flex;\n",
              "      flex-wrap:wrap;\n",
              "      gap: 12px;\n",
              "    }\n",
              "\n",
              "    .colab-df-convert {\n",
              "      background-color: #E8F0FE;\n",
              "      border: none;\n",
              "      border-radius: 50%;\n",
              "      cursor: pointer;\n",
              "      display: none;\n",
              "      fill: #1967D2;\n",
              "      height: 32px;\n",
              "      padding: 0 0 0 0;\n",
              "      width: 32px;\n",
              "    }\n",
              "\n",
              "    .colab-df-convert:hover {\n",
              "      background-color: #E2EBFA;\n",
              "      box-shadow: 0px 1px 2px rgba(60, 64, 67, 0.3), 0px 1px 3px 1px rgba(60, 64, 67, 0.15);\n",
              "      fill: #174EA6;\n",
              "    }\n",
              "\n",
              "    [theme=dark] .colab-df-convert {\n",
              "      background-color: #3B4455;\n",
              "      fill: #D2E3FC;\n",
              "    }\n",
              "\n",
              "    [theme=dark] .colab-df-convert:hover {\n",
              "      background-color: #434B5C;\n",
              "      box-shadow: 0px 1px 3px 1px rgba(0, 0, 0, 0.15);\n",
              "      filter: drop-shadow(0px 1px 2px rgba(0, 0, 0, 0.3));\n",
              "      fill: #FFFFFF;\n",
              "    }\n",
              "  </style>\n",
              "\n",
              "      <script>\n",
              "        const buttonEl =\n",
              "          document.querySelector('#df-7c80db24-9117-4179-a859-61a9376af00c button.colab-df-convert');\n",
              "        buttonEl.style.display =\n",
              "          google.colab.kernel.accessAllowed ? 'block' : 'none';\n",
              "\n",
              "        async function convertToInteractive(key) {\n",
              "          const element = document.querySelector('#df-7c80db24-9117-4179-a859-61a9376af00c');\n",
              "          const dataTable =\n",
              "            await google.colab.kernel.invokeFunction('convertToInteractive',\n",
              "                                                     [key], {});\n",
              "          if (!dataTable) return;\n",
              "\n",
              "          const docLinkHtml = 'Like what you see? Visit the ' +\n",
              "            '<a target=\"_blank\" href=https://colab.research.google.com/notebooks/data_table.ipynb>data table notebook</a>'\n",
              "            + ' to learn more about interactive tables.';\n",
              "          element.innerHTML = '';\n",
              "          dataTable['output_type'] = 'display_data';\n",
              "          await google.colab.output.renderOutput(dataTable, element);\n",
              "          const docLink = document.createElement('div');\n",
              "          docLink.innerHTML = docLinkHtml;\n",
              "          element.appendChild(docLink);\n",
              "        }\n",
              "      </script>\n",
              "    </div>\n",
              "  </div>\n",
              "  "
            ]
          },
          "metadata": {},
          "execution_count": 4
        }
      ],
      "source": [
        "query = \"\"\" SELECT * \n",
        "            FROM authors \n",
        "            LIMIT 1\"\"\"\n",
        "# чтобы выполнить SQL-запрос, используем Pandas 636строк\n",
        "pd.io.sql.read_sql(query, con = engine)"
      ]
    },
    {
      "cell_type": "code",
      "execution_count": null,
      "metadata": {
        "colab": {
          "base_uri": "https://localhost:8080/",
          "height": 81
        },
        "id": "bDLt1pNsRX8a",
        "outputId": "e99da4dd-d6c1-42b5-aca6-0906d59db62a"
      },
      "outputs": [
        {
          "output_type": "execute_result",
          "data": {
            "text/plain": [
              "   publisher_id publisher\n",
              "0             1       Ace"
            ],
            "text/html": [
              "\n",
              "  <div id=\"df-fb81fc22-19e3-4dfe-af61-191b17651302\">\n",
              "    <div class=\"colab-df-container\">\n",
              "      <div>\n",
              "<style scoped>\n",
              "    .dataframe tbody tr th:only-of-type {\n",
              "        vertical-align: middle;\n",
              "    }\n",
              "\n",
              "    .dataframe tbody tr th {\n",
              "        vertical-align: top;\n",
              "    }\n",
              "\n",
              "    .dataframe thead th {\n",
              "        text-align: right;\n",
              "    }\n",
              "</style>\n",
              "<table border=\"1\" class=\"dataframe\">\n",
              "  <thead>\n",
              "    <tr style=\"text-align: right;\">\n",
              "      <th></th>\n",
              "      <th>publisher_id</th>\n",
              "      <th>publisher</th>\n",
              "    </tr>\n",
              "  </thead>\n",
              "  <tbody>\n",
              "    <tr>\n",
              "      <th>0</th>\n",
              "      <td>1</td>\n",
              "      <td>Ace</td>\n",
              "    </tr>\n",
              "  </tbody>\n",
              "</table>\n",
              "</div>\n",
              "      <button class=\"colab-df-convert\" onclick=\"convertToInteractive('df-fb81fc22-19e3-4dfe-af61-191b17651302')\"\n",
              "              title=\"Convert this dataframe to an interactive table.\"\n",
              "              style=\"display:none;\">\n",
              "        \n",
              "  <svg xmlns=\"http://www.w3.org/2000/svg\" height=\"24px\"viewBox=\"0 0 24 24\"\n",
              "       width=\"24px\">\n",
              "    <path d=\"M0 0h24v24H0V0z\" fill=\"none\"/>\n",
              "    <path d=\"M18.56 5.44l.94 2.06.94-2.06 2.06-.94-2.06-.94-.94-2.06-.94 2.06-2.06.94zm-11 1L8.5 8.5l.94-2.06 2.06-.94-2.06-.94L8.5 2.5l-.94 2.06-2.06.94zm10 10l.94 2.06.94-2.06 2.06-.94-2.06-.94-.94-2.06-.94 2.06-2.06.94z\"/><path d=\"M17.41 7.96l-1.37-1.37c-.4-.4-.92-.59-1.43-.59-.52 0-1.04.2-1.43.59L10.3 9.45l-7.72 7.72c-.78.78-.78 2.05 0 2.83L4 21.41c.39.39.9.59 1.41.59.51 0 1.02-.2 1.41-.59l7.78-7.78 2.81-2.81c.8-.78.8-2.07 0-2.86zM5.41 20L4 18.59l7.72-7.72 1.47 1.35L5.41 20z\"/>\n",
              "  </svg>\n",
              "      </button>\n",
              "      \n",
              "  <style>\n",
              "    .colab-df-container {\n",
              "      display:flex;\n",
              "      flex-wrap:wrap;\n",
              "      gap: 12px;\n",
              "    }\n",
              "\n",
              "    .colab-df-convert {\n",
              "      background-color: #E8F0FE;\n",
              "      border: none;\n",
              "      border-radius: 50%;\n",
              "      cursor: pointer;\n",
              "      display: none;\n",
              "      fill: #1967D2;\n",
              "      height: 32px;\n",
              "      padding: 0 0 0 0;\n",
              "      width: 32px;\n",
              "    }\n",
              "\n",
              "    .colab-df-convert:hover {\n",
              "      background-color: #E2EBFA;\n",
              "      box-shadow: 0px 1px 2px rgba(60, 64, 67, 0.3), 0px 1px 3px 1px rgba(60, 64, 67, 0.15);\n",
              "      fill: #174EA6;\n",
              "    }\n",
              "\n",
              "    [theme=dark] .colab-df-convert {\n",
              "      background-color: #3B4455;\n",
              "      fill: #D2E3FC;\n",
              "    }\n",
              "\n",
              "    [theme=dark] .colab-df-convert:hover {\n",
              "      background-color: #434B5C;\n",
              "      box-shadow: 0px 1px 3px 1px rgba(0, 0, 0, 0.15);\n",
              "      filter: drop-shadow(0px 1px 2px rgba(0, 0, 0, 0.3));\n",
              "      fill: #FFFFFF;\n",
              "    }\n",
              "  </style>\n",
              "\n",
              "      <script>\n",
              "        const buttonEl =\n",
              "          document.querySelector('#df-fb81fc22-19e3-4dfe-af61-191b17651302 button.colab-df-convert');\n",
              "        buttonEl.style.display =\n",
              "          google.colab.kernel.accessAllowed ? 'block' : 'none';\n",
              "\n",
              "        async function convertToInteractive(key) {\n",
              "          const element = document.querySelector('#df-fb81fc22-19e3-4dfe-af61-191b17651302');\n",
              "          const dataTable =\n",
              "            await google.colab.kernel.invokeFunction('convertToInteractive',\n",
              "                                                     [key], {});\n",
              "          if (!dataTable) return;\n",
              "\n",
              "          const docLinkHtml = 'Like what you see? Visit the ' +\n",
              "            '<a target=\"_blank\" href=https://colab.research.google.com/notebooks/data_table.ipynb>data table notebook</a>'\n",
              "            + ' to learn more about interactive tables.';\n",
              "          element.innerHTML = '';\n",
              "          dataTable['output_type'] = 'display_data';\n",
              "          await google.colab.output.renderOutput(dataTable, element);\n",
              "          const docLink = document.createElement('div');\n",
              "          docLink.innerHTML = docLinkHtml;\n",
              "          element.appendChild(docLink);\n",
              "        }\n",
              "      </script>\n",
              "    </div>\n",
              "  </div>\n",
              "  "
            ]
          },
          "metadata": {},
          "execution_count": 5
        }
      ],
      "source": [
        "query = \"\"\" SELECT * \n",
        "            FROM publishers \n",
        "            LIMIT 1 \"\"\"\n",
        "# чтобы выполнить SQL-запрос, используем Pandas 340строк\n",
        "pd.io.sql.read_sql(query, con = engine)"
      ]
    },
    {
      "cell_type": "code",
      "execution_count": null,
      "metadata": {
        "colab": {
          "base_uri": "https://localhost:8080/",
          "height": 81
        },
        "id": "KnOG6-YxCNSq",
        "outputId": "d2ffc3a2-1165-4f10-beca-9a41dc1e50fd"
      },
      "outputs": [
        {
          "output_type": "execute_result",
          "data": {
            "text/plain": [
              "   rating_id  book_id    username  rating\n",
              "0          1        1  ryanfranco       4"
            ],
            "text/html": [
              "\n",
              "  <div id=\"df-cf71db37-0774-4853-b4b4-d9faa20f0edf\">\n",
              "    <div class=\"colab-df-container\">\n",
              "      <div>\n",
              "<style scoped>\n",
              "    .dataframe tbody tr th:only-of-type {\n",
              "        vertical-align: middle;\n",
              "    }\n",
              "\n",
              "    .dataframe tbody tr th {\n",
              "        vertical-align: top;\n",
              "    }\n",
              "\n",
              "    .dataframe thead th {\n",
              "        text-align: right;\n",
              "    }\n",
              "</style>\n",
              "<table border=\"1\" class=\"dataframe\">\n",
              "  <thead>\n",
              "    <tr style=\"text-align: right;\">\n",
              "      <th></th>\n",
              "      <th>rating_id</th>\n",
              "      <th>book_id</th>\n",
              "      <th>username</th>\n",
              "      <th>rating</th>\n",
              "    </tr>\n",
              "  </thead>\n",
              "  <tbody>\n",
              "    <tr>\n",
              "      <th>0</th>\n",
              "      <td>1</td>\n",
              "      <td>1</td>\n",
              "      <td>ryanfranco</td>\n",
              "      <td>4</td>\n",
              "    </tr>\n",
              "  </tbody>\n",
              "</table>\n",
              "</div>\n",
              "      <button class=\"colab-df-convert\" onclick=\"convertToInteractive('df-cf71db37-0774-4853-b4b4-d9faa20f0edf')\"\n",
              "              title=\"Convert this dataframe to an interactive table.\"\n",
              "              style=\"display:none;\">\n",
              "        \n",
              "  <svg xmlns=\"http://www.w3.org/2000/svg\" height=\"24px\"viewBox=\"0 0 24 24\"\n",
              "       width=\"24px\">\n",
              "    <path d=\"M0 0h24v24H0V0z\" fill=\"none\"/>\n",
              "    <path d=\"M18.56 5.44l.94 2.06.94-2.06 2.06-.94-2.06-.94-.94-2.06-.94 2.06-2.06.94zm-11 1L8.5 8.5l.94-2.06 2.06-.94-2.06-.94L8.5 2.5l-.94 2.06-2.06.94zm10 10l.94 2.06.94-2.06 2.06-.94-2.06-.94-.94-2.06-.94 2.06-2.06.94z\"/><path d=\"M17.41 7.96l-1.37-1.37c-.4-.4-.92-.59-1.43-.59-.52 0-1.04.2-1.43.59L10.3 9.45l-7.72 7.72c-.78.78-.78 2.05 0 2.83L4 21.41c.39.39.9.59 1.41.59.51 0 1.02-.2 1.41-.59l7.78-7.78 2.81-2.81c.8-.78.8-2.07 0-2.86zM5.41 20L4 18.59l7.72-7.72 1.47 1.35L5.41 20z\"/>\n",
              "  </svg>\n",
              "      </button>\n",
              "      \n",
              "  <style>\n",
              "    .colab-df-container {\n",
              "      display:flex;\n",
              "      flex-wrap:wrap;\n",
              "      gap: 12px;\n",
              "    }\n",
              "\n",
              "    .colab-df-convert {\n",
              "      background-color: #E8F0FE;\n",
              "      border: none;\n",
              "      border-radius: 50%;\n",
              "      cursor: pointer;\n",
              "      display: none;\n",
              "      fill: #1967D2;\n",
              "      height: 32px;\n",
              "      padding: 0 0 0 0;\n",
              "      width: 32px;\n",
              "    }\n",
              "\n",
              "    .colab-df-convert:hover {\n",
              "      background-color: #E2EBFA;\n",
              "      box-shadow: 0px 1px 2px rgba(60, 64, 67, 0.3), 0px 1px 3px 1px rgba(60, 64, 67, 0.15);\n",
              "      fill: #174EA6;\n",
              "    }\n",
              "\n",
              "    [theme=dark] .colab-df-convert {\n",
              "      background-color: #3B4455;\n",
              "      fill: #D2E3FC;\n",
              "    }\n",
              "\n",
              "    [theme=dark] .colab-df-convert:hover {\n",
              "      background-color: #434B5C;\n",
              "      box-shadow: 0px 1px 3px 1px rgba(0, 0, 0, 0.15);\n",
              "      filter: drop-shadow(0px 1px 2px rgba(0, 0, 0, 0.3));\n",
              "      fill: #FFFFFF;\n",
              "    }\n",
              "  </style>\n",
              "\n",
              "      <script>\n",
              "        const buttonEl =\n",
              "          document.querySelector('#df-cf71db37-0774-4853-b4b4-d9faa20f0edf button.colab-df-convert');\n",
              "        buttonEl.style.display =\n",
              "          google.colab.kernel.accessAllowed ? 'block' : 'none';\n",
              "\n",
              "        async function convertToInteractive(key) {\n",
              "          const element = document.querySelector('#df-cf71db37-0774-4853-b4b4-d9faa20f0edf');\n",
              "          const dataTable =\n",
              "            await google.colab.kernel.invokeFunction('convertToInteractive',\n",
              "                                                     [key], {});\n",
              "          if (!dataTable) return;\n",
              "\n",
              "          const docLinkHtml = 'Like what you see? Visit the ' +\n",
              "            '<a target=\"_blank\" href=https://colab.research.google.com/notebooks/data_table.ipynb>data table notebook</a>'\n",
              "            + ' to learn more about interactive tables.';\n",
              "          element.innerHTML = '';\n",
              "          dataTable['output_type'] = 'display_data';\n",
              "          await google.colab.output.renderOutput(dataTable, element);\n",
              "          const docLink = document.createElement('div');\n",
              "          docLink.innerHTML = docLinkHtml;\n",
              "          element.appendChild(docLink);\n",
              "        }\n",
              "      </script>\n",
              "    </div>\n",
              "  </div>\n",
              "  "
            ]
          },
          "metadata": {},
          "execution_count": 6
        }
      ],
      "source": [
        "query = \"\"\" SELECT *\n",
        "            FROM ratings \n",
        "            LIMIT 1\"\"\"\n",
        "# чтобы выполнить SQL-запрос, используем Pandas 2793строк\n",
        "pd.io.sql.read_sql(query, con = engine)"
      ]
    },
    {
      "cell_type": "code",
      "execution_count": null,
      "metadata": {
        "colab": {
          "base_uri": "https://localhost:8080/",
          "height": 81
        },
        "id": "EeoCBFvUCNa3",
        "outputId": "f10ee0bb-559e-4f98-8825-693d85aaf64a",
        "scrolled": true
      },
      "outputs": [
        {
          "output_type": "execute_result",
          "data": {
            "text/plain": [
              "   review_id  book_id      username  \\\n",
              "0          1        1  brandtandrea   \n",
              "\n",
              "                                                text  \n",
              "0  Mention society tell send professor analysis. ...  "
            ],
            "text/html": [
              "\n",
              "  <div id=\"df-44d63eb5-3fb6-496c-ba15-8b6796f96466\">\n",
              "    <div class=\"colab-df-container\">\n",
              "      <div>\n",
              "<style scoped>\n",
              "    .dataframe tbody tr th:only-of-type {\n",
              "        vertical-align: middle;\n",
              "    }\n",
              "\n",
              "    .dataframe tbody tr th {\n",
              "        vertical-align: top;\n",
              "    }\n",
              "\n",
              "    .dataframe thead th {\n",
              "        text-align: right;\n",
              "    }\n",
              "</style>\n",
              "<table border=\"1\" class=\"dataframe\">\n",
              "  <thead>\n",
              "    <tr style=\"text-align: right;\">\n",
              "      <th></th>\n",
              "      <th>review_id</th>\n",
              "      <th>book_id</th>\n",
              "      <th>username</th>\n",
              "      <th>text</th>\n",
              "    </tr>\n",
              "  </thead>\n",
              "  <tbody>\n",
              "    <tr>\n",
              "      <th>0</th>\n",
              "      <td>1</td>\n",
              "      <td>1</td>\n",
              "      <td>brandtandrea</td>\n",
              "      <td>Mention society tell send professor analysis. ...</td>\n",
              "    </tr>\n",
              "  </tbody>\n",
              "</table>\n",
              "</div>\n",
              "      <button class=\"colab-df-convert\" onclick=\"convertToInteractive('df-44d63eb5-3fb6-496c-ba15-8b6796f96466')\"\n",
              "              title=\"Convert this dataframe to an interactive table.\"\n",
              "              style=\"display:none;\">\n",
              "        \n",
              "  <svg xmlns=\"http://www.w3.org/2000/svg\" height=\"24px\"viewBox=\"0 0 24 24\"\n",
              "       width=\"24px\">\n",
              "    <path d=\"M0 0h24v24H0V0z\" fill=\"none\"/>\n",
              "    <path d=\"M18.56 5.44l.94 2.06.94-2.06 2.06-.94-2.06-.94-.94-2.06-.94 2.06-2.06.94zm-11 1L8.5 8.5l.94-2.06 2.06-.94-2.06-.94L8.5 2.5l-.94 2.06-2.06.94zm10 10l.94 2.06.94-2.06 2.06-.94-2.06-.94-.94-2.06-.94 2.06-2.06.94z\"/><path d=\"M17.41 7.96l-1.37-1.37c-.4-.4-.92-.59-1.43-.59-.52 0-1.04.2-1.43.59L10.3 9.45l-7.72 7.72c-.78.78-.78 2.05 0 2.83L4 21.41c.39.39.9.59 1.41.59.51 0 1.02-.2 1.41-.59l7.78-7.78 2.81-2.81c.8-.78.8-2.07 0-2.86zM5.41 20L4 18.59l7.72-7.72 1.47 1.35L5.41 20z\"/>\n",
              "  </svg>\n",
              "      </button>\n",
              "      \n",
              "  <style>\n",
              "    .colab-df-container {\n",
              "      display:flex;\n",
              "      flex-wrap:wrap;\n",
              "      gap: 12px;\n",
              "    }\n",
              "\n",
              "    .colab-df-convert {\n",
              "      background-color: #E8F0FE;\n",
              "      border: none;\n",
              "      border-radius: 50%;\n",
              "      cursor: pointer;\n",
              "      display: none;\n",
              "      fill: #1967D2;\n",
              "      height: 32px;\n",
              "      padding: 0 0 0 0;\n",
              "      width: 32px;\n",
              "    }\n",
              "\n",
              "    .colab-df-convert:hover {\n",
              "      background-color: #E2EBFA;\n",
              "      box-shadow: 0px 1px 2px rgba(60, 64, 67, 0.3), 0px 1px 3px 1px rgba(60, 64, 67, 0.15);\n",
              "      fill: #174EA6;\n",
              "    }\n",
              "\n",
              "    [theme=dark] .colab-df-convert {\n",
              "      background-color: #3B4455;\n",
              "      fill: #D2E3FC;\n",
              "    }\n",
              "\n",
              "    [theme=dark] .colab-df-convert:hover {\n",
              "      background-color: #434B5C;\n",
              "      box-shadow: 0px 1px 3px 1px rgba(0, 0, 0, 0.15);\n",
              "      filter: drop-shadow(0px 1px 2px rgba(0, 0, 0, 0.3));\n",
              "      fill: #FFFFFF;\n",
              "    }\n",
              "  </style>\n",
              "\n",
              "      <script>\n",
              "        const buttonEl =\n",
              "          document.querySelector('#df-44d63eb5-3fb6-496c-ba15-8b6796f96466 button.colab-df-convert');\n",
              "        buttonEl.style.display =\n",
              "          google.colab.kernel.accessAllowed ? 'block' : 'none';\n",
              "\n",
              "        async function convertToInteractive(key) {\n",
              "          const element = document.querySelector('#df-44d63eb5-3fb6-496c-ba15-8b6796f96466');\n",
              "          const dataTable =\n",
              "            await google.colab.kernel.invokeFunction('convertToInteractive',\n",
              "                                                     [key], {});\n",
              "          if (!dataTable) return;\n",
              "\n",
              "          const docLinkHtml = 'Like what you see? Visit the ' +\n",
              "            '<a target=\"_blank\" href=https://colab.research.google.com/notebooks/data_table.ipynb>data table notebook</a>'\n",
              "            + ' to learn more about interactive tables.';\n",
              "          element.innerHTML = '';\n",
              "          dataTable['output_type'] = 'display_data';\n",
              "          await google.colab.output.renderOutput(dataTable, element);\n",
              "          const docLink = document.createElement('div');\n",
              "          docLink.innerHTML = docLinkHtml;\n",
              "          element.appendChild(docLink);\n",
              "        }\n",
              "      </script>\n",
              "    </div>\n",
              "  </div>\n",
              "  "
            ]
          },
          "metadata": {},
          "execution_count": 7
        }
      ],
      "source": [
        "query = \"\"\" SELECT *\n",
        "            FROM reviews AS r\n",
        "                        LIMIT 1\"\"\"\n",
        "# чтобы выполнить SQL-запрос, используем Pandas 6456строк\n",
        "pd.io.sql.read_sql(query, con = engine)"
      ]
    },
    {
      "cell_type": "markdown",
      "metadata": {
        "id": "EYZxWClIEDSn"
      },
      "source": [
        "### Выводы\n",
        "\n",
        "В первой части работы были выполнены выгрузки баз  данных. Базы выгрузились нормально, сведения подтверждают ранее объявленные структуры. Число строк в базах:\n",
        "\n",
        "- books - 1000 строк;\n",
        "- authors - 636 строк;\n",
        "- publishers - 340 строк;\n",
        "- ratings - 2793 строки;\n",
        "- reviews - 6456 строк."
      ]
    },
    {
      "cell_type": "markdown",
      "metadata": {
        "id": "fnqUAxd4DYF4"
      },
      "source": [
        "<div class=\"alert alert-block alert-success\">✔️\n",
        "    \n",
        "\n",
        "__Комментарий от тимлида №1__\n",
        "\n",
        "Отлично первый взгляд на данные есть. Ты корректно выгрузил данные и посмотрел их содержимое\n",
        "</div>"
      ]
    },
    {
      "cell_type": "markdown",
      "metadata": {
        "id": "Jf8LX2-hDYF4"
      },
      "source": [
        "<div class=\"alert alert-info\"> <b>Комментарии студента:</b> Принято.</div>"
      ]
    },
    {
      "cell_type": "markdown",
      "metadata": {
        "id": "YPbtasC8GFuL"
      },
      "source": [
        "## SQL-запросы для решения задания\n",
        "\n",
        "### Посчитайте, сколько книг вышло после 1 января 2000 года"
      ]
    },
    {
      "cell_type": "code",
      "execution_count": null,
      "metadata": {
        "colab": {
          "base_uri": "https://localhost:8080/",
          "height": 81
        },
        "id": "WnxoNspfCNeL",
        "outputId": "e965319e-4346-41d1-8521-a84a15438d9b"
      },
      "outputs": [
        {
          "output_type": "execute_result",
          "data": {
            "text/plain": [
              "   count\n",
              "0    819"
            ],
            "text/html": [
              "\n",
              "  <div id=\"df-fd19702d-0dd6-4072-a96d-09d8d1851fc6\">\n",
              "    <div class=\"colab-df-container\">\n",
              "      <div>\n",
              "<style scoped>\n",
              "    .dataframe tbody tr th:only-of-type {\n",
              "        vertical-align: middle;\n",
              "    }\n",
              "\n",
              "    .dataframe tbody tr th {\n",
              "        vertical-align: top;\n",
              "    }\n",
              "\n",
              "    .dataframe thead th {\n",
              "        text-align: right;\n",
              "    }\n",
              "</style>\n",
              "<table border=\"1\" class=\"dataframe\">\n",
              "  <thead>\n",
              "    <tr style=\"text-align: right;\">\n",
              "      <th></th>\n",
              "      <th>count</th>\n",
              "    </tr>\n",
              "  </thead>\n",
              "  <tbody>\n",
              "    <tr>\n",
              "      <th>0</th>\n",
              "      <td>819</td>\n",
              "    </tr>\n",
              "  </tbody>\n",
              "</table>\n",
              "</div>\n",
              "      <button class=\"colab-df-convert\" onclick=\"convertToInteractive('df-fd19702d-0dd6-4072-a96d-09d8d1851fc6')\"\n",
              "              title=\"Convert this dataframe to an interactive table.\"\n",
              "              style=\"display:none;\">\n",
              "        \n",
              "  <svg xmlns=\"http://www.w3.org/2000/svg\" height=\"24px\"viewBox=\"0 0 24 24\"\n",
              "       width=\"24px\">\n",
              "    <path d=\"M0 0h24v24H0V0z\" fill=\"none\"/>\n",
              "    <path d=\"M18.56 5.44l.94 2.06.94-2.06 2.06-.94-2.06-.94-.94-2.06-.94 2.06-2.06.94zm-11 1L8.5 8.5l.94-2.06 2.06-.94-2.06-.94L8.5 2.5l-.94 2.06-2.06.94zm10 10l.94 2.06.94-2.06 2.06-.94-2.06-.94-.94-2.06-.94 2.06-2.06.94z\"/><path d=\"M17.41 7.96l-1.37-1.37c-.4-.4-.92-.59-1.43-.59-.52 0-1.04.2-1.43.59L10.3 9.45l-7.72 7.72c-.78.78-.78 2.05 0 2.83L4 21.41c.39.39.9.59 1.41.59.51 0 1.02-.2 1.41-.59l7.78-7.78 2.81-2.81c.8-.78.8-2.07 0-2.86zM5.41 20L4 18.59l7.72-7.72 1.47 1.35L5.41 20z\"/>\n",
              "  </svg>\n",
              "      </button>\n",
              "      \n",
              "  <style>\n",
              "    .colab-df-container {\n",
              "      display:flex;\n",
              "      flex-wrap:wrap;\n",
              "      gap: 12px;\n",
              "    }\n",
              "\n",
              "    .colab-df-convert {\n",
              "      background-color: #E8F0FE;\n",
              "      border: none;\n",
              "      border-radius: 50%;\n",
              "      cursor: pointer;\n",
              "      display: none;\n",
              "      fill: #1967D2;\n",
              "      height: 32px;\n",
              "      padding: 0 0 0 0;\n",
              "      width: 32px;\n",
              "    }\n",
              "\n",
              "    .colab-df-convert:hover {\n",
              "      background-color: #E2EBFA;\n",
              "      box-shadow: 0px 1px 2px rgba(60, 64, 67, 0.3), 0px 1px 3px 1px rgba(60, 64, 67, 0.15);\n",
              "      fill: #174EA6;\n",
              "    }\n",
              "\n",
              "    [theme=dark] .colab-df-convert {\n",
              "      background-color: #3B4455;\n",
              "      fill: #D2E3FC;\n",
              "    }\n",
              "\n",
              "    [theme=dark] .colab-df-convert:hover {\n",
              "      background-color: #434B5C;\n",
              "      box-shadow: 0px 1px 3px 1px rgba(0, 0, 0, 0.15);\n",
              "      filter: drop-shadow(0px 1px 2px rgba(0, 0, 0, 0.3));\n",
              "      fill: #FFFFFF;\n",
              "    }\n",
              "  </style>\n",
              "\n",
              "      <script>\n",
              "        const buttonEl =\n",
              "          document.querySelector('#df-fd19702d-0dd6-4072-a96d-09d8d1851fc6 button.colab-df-convert');\n",
              "        buttonEl.style.display =\n",
              "          google.colab.kernel.accessAllowed ? 'block' : 'none';\n",
              "\n",
              "        async function convertToInteractive(key) {\n",
              "          const element = document.querySelector('#df-fd19702d-0dd6-4072-a96d-09d8d1851fc6');\n",
              "          const dataTable =\n",
              "            await google.colab.kernel.invokeFunction('convertToInteractive',\n",
              "                                                     [key], {});\n",
              "          if (!dataTable) return;\n",
              "\n",
              "          const docLinkHtml = 'Like what you see? Visit the ' +\n",
              "            '<a target=\"_blank\" href=https://colab.research.google.com/notebooks/data_table.ipynb>data table notebook</a>'\n",
              "            + ' to learn more about interactive tables.';\n",
              "          element.innerHTML = '';\n",
              "          dataTable['output_type'] = 'display_data';\n",
              "          await google.colab.output.renderOutput(dataTable, element);\n",
              "          const docLink = document.createElement('div');\n",
              "          docLink.innerHTML = docLinkHtml;\n",
              "          element.appendChild(docLink);\n",
              "        }\n",
              "      </script>\n",
              "    </div>\n",
              "  </div>\n",
              "  "
            ]
          },
          "metadata": {},
          "execution_count": 8
        }
      ],
      "source": [
        "query = \"\"\" SELECT COUNT (book_id)  \n",
        "            FROM books\n",
        "            WHERE publication_date > '2000-01-01' \"\"\"\n",
        "# чтобы выполнить SQL-запрос, используем Pandas\n",
        "pd.io.sql.read_sql(query, con = engine)"
      ]
    },
    {
      "cell_type": "markdown",
      "metadata": {
        "id": "EXUqYONUDYF5"
      },
      "source": [
        "<div class=\"alert alert-block alert-success\">✔️\n",
        "    \n",
        "\n",
        "__Комментарий от тимлида №1__\n",
        "\n",
        "Расчёт верный\n",
        "</div>"
      ]
    },
    {
      "cell_type": "markdown",
      "metadata": {
        "id": "Zj_qA-0sDYF5"
      },
      "source": [
        "<div class=\"alert alert-info\"> <b>Комментарии студента:</b> Принято.</div>"
      ]
    },
    {
      "cell_type": "markdown",
      "metadata": {
        "id": "i2HiCtKHIqUt"
      },
      "source": [
        "В период с 1 января 2000 года по данным базы book_id вышло 819 книг\n",
        "\n",
        "### Для каждой книги посчитайте количество обзоров и среднюю оценку"
      ]
    },
    {
      "cell_type": "markdown",
      "metadata": {
        "id": "LfRNxnVTDYF6"
      },
      "source": []
    },
    {
      "cell_type": "code",
      "execution_count": null,
      "metadata": {
        "colab": {
          "base_uri": "https://localhost:8080/",
          "height": 424
        },
        "id": "mxEb5o0pCNh2",
        "outputId": "857461fc-cca0-4e68-9dc3-b2e08cfa1378"
      },
      "outputs": [
        {
          "output_type": "execute_result",
          "data": {
            "text/plain": [
              "                                                 title  count       avg\n",
              "0                            The Count of Monte Cristo     23  4.217391\n",
              "1                              Count Zero (Sprawl  #2)      2  2.500000\n",
              "2    The Botany of Desire: A Plant's-Eye View of th...      2  3.500000\n",
              "3                                 The Poisonwood Bible     22  4.363636\n",
              "4                                 The Canterbury Tales      6  3.333333\n",
              "..                                                 ...    ...       ...\n",
              "994                           Of Love and Other Demons      2  4.500000\n",
              "995  In the Heart of the Sea: The Tragedy of the Wh...      3  3.333333\n",
              "996               Welcome to Temptation (Dempseys  #1)      2  5.000000\n",
              "997                      World's End (The Sandman  #8)      2  4.500000\n",
              "998                                  Holes (Holes  #1)     31  3.967742\n",
              "\n",
              "[999 rows x 3 columns]"
            ],
            "text/html": [
              "\n",
              "  <div id=\"df-25bf3952-2011-4cc5-adf8-31ecd8994164\">\n",
              "    <div class=\"colab-df-container\">\n",
              "      <div>\n",
              "<style scoped>\n",
              "    .dataframe tbody tr th:only-of-type {\n",
              "        vertical-align: middle;\n",
              "    }\n",
              "\n",
              "    .dataframe tbody tr th {\n",
              "        vertical-align: top;\n",
              "    }\n",
              "\n",
              "    .dataframe thead th {\n",
              "        text-align: right;\n",
              "    }\n",
              "</style>\n",
              "<table border=\"1\" class=\"dataframe\">\n",
              "  <thead>\n",
              "    <tr style=\"text-align: right;\">\n",
              "      <th></th>\n",
              "      <th>title</th>\n",
              "      <th>count</th>\n",
              "      <th>avg</th>\n",
              "    </tr>\n",
              "  </thead>\n",
              "  <tbody>\n",
              "    <tr>\n",
              "      <th>0</th>\n",
              "      <td>The Count of Monte Cristo</td>\n",
              "      <td>23</td>\n",
              "      <td>4.217391</td>\n",
              "    </tr>\n",
              "    <tr>\n",
              "      <th>1</th>\n",
              "      <td>Count Zero (Sprawl  #2)</td>\n",
              "      <td>2</td>\n",
              "      <td>2.500000</td>\n",
              "    </tr>\n",
              "    <tr>\n",
              "      <th>2</th>\n",
              "      <td>The Botany of Desire: A Plant's-Eye View of th...</td>\n",
              "      <td>2</td>\n",
              "      <td>3.500000</td>\n",
              "    </tr>\n",
              "    <tr>\n",
              "      <th>3</th>\n",
              "      <td>The Poisonwood Bible</td>\n",
              "      <td>22</td>\n",
              "      <td>4.363636</td>\n",
              "    </tr>\n",
              "    <tr>\n",
              "      <th>4</th>\n",
              "      <td>The Canterbury Tales</td>\n",
              "      <td>6</td>\n",
              "      <td>3.333333</td>\n",
              "    </tr>\n",
              "    <tr>\n",
              "      <th>...</th>\n",
              "      <td>...</td>\n",
              "      <td>...</td>\n",
              "      <td>...</td>\n",
              "    </tr>\n",
              "    <tr>\n",
              "      <th>994</th>\n",
              "      <td>Of Love and Other Demons</td>\n",
              "      <td>2</td>\n",
              "      <td>4.500000</td>\n",
              "    </tr>\n",
              "    <tr>\n",
              "      <th>995</th>\n",
              "      <td>In the Heart of the Sea: The Tragedy of the Wh...</td>\n",
              "      <td>3</td>\n",
              "      <td>3.333333</td>\n",
              "    </tr>\n",
              "    <tr>\n",
              "      <th>996</th>\n",
              "      <td>Welcome to Temptation (Dempseys  #1)</td>\n",
              "      <td>2</td>\n",
              "      <td>5.000000</td>\n",
              "    </tr>\n",
              "    <tr>\n",
              "      <th>997</th>\n",
              "      <td>World's End (The Sandman  #8)</td>\n",
              "      <td>2</td>\n",
              "      <td>4.500000</td>\n",
              "    </tr>\n",
              "    <tr>\n",
              "      <th>998</th>\n",
              "      <td>Holes (Holes  #1)</td>\n",
              "      <td>31</td>\n",
              "      <td>3.967742</td>\n",
              "    </tr>\n",
              "  </tbody>\n",
              "</table>\n",
              "<p>999 rows × 3 columns</p>\n",
              "</div>\n",
              "      <button class=\"colab-df-convert\" onclick=\"convertToInteractive('df-25bf3952-2011-4cc5-adf8-31ecd8994164')\"\n",
              "              title=\"Convert this dataframe to an interactive table.\"\n",
              "              style=\"display:none;\">\n",
              "        \n",
              "  <svg xmlns=\"http://www.w3.org/2000/svg\" height=\"24px\"viewBox=\"0 0 24 24\"\n",
              "       width=\"24px\">\n",
              "    <path d=\"M0 0h24v24H0V0z\" fill=\"none\"/>\n",
              "    <path d=\"M18.56 5.44l.94 2.06.94-2.06 2.06-.94-2.06-.94-.94-2.06-.94 2.06-2.06.94zm-11 1L8.5 8.5l.94-2.06 2.06-.94-2.06-.94L8.5 2.5l-.94 2.06-2.06.94zm10 10l.94 2.06.94-2.06 2.06-.94-2.06-.94-.94-2.06-.94 2.06-2.06.94z\"/><path d=\"M17.41 7.96l-1.37-1.37c-.4-.4-.92-.59-1.43-.59-.52 0-1.04.2-1.43.59L10.3 9.45l-7.72 7.72c-.78.78-.78 2.05 0 2.83L4 21.41c.39.39.9.59 1.41.59.51 0 1.02-.2 1.41-.59l7.78-7.78 2.81-2.81c.8-.78.8-2.07 0-2.86zM5.41 20L4 18.59l7.72-7.72 1.47 1.35L5.41 20z\"/>\n",
              "  </svg>\n",
              "      </button>\n",
              "      \n",
              "  <style>\n",
              "    .colab-df-container {\n",
              "      display:flex;\n",
              "      flex-wrap:wrap;\n",
              "      gap: 12px;\n",
              "    }\n",
              "\n",
              "    .colab-df-convert {\n",
              "      background-color: #E8F0FE;\n",
              "      border: none;\n",
              "      border-radius: 50%;\n",
              "      cursor: pointer;\n",
              "      display: none;\n",
              "      fill: #1967D2;\n",
              "      height: 32px;\n",
              "      padding: 0 0 0 0;\n",
              "      width: 32px;\n",
              "    }\n",
              "\n",
              "    .colab-df-convert:hover {\n",
              "      background-color: #E2EBFA;\n",
              "      box-shadow: 0px 1px 2px rgba(60, 64, 67, 0.3), 0px 1px 3px 1px rgba(60, 64, 67, 0.15);\n",
              "      fill: #174EA6;\n",
              "    }\n",
              "\n",
              "    [theme=dark] .colab-df-convert {\n",
              "      background-color: #3B4455;\n",
              "      fill: #D2E3FC;\n",
              "    }\n",
              "\n",
              "    [theme=dark] .colab-df-convert:hover {\n",
              "      background-color: #434B5C;\n",
              "      box-shadow: 0px 1px 3px 1px rgba(0, 0, 0, 0.15);\n",
              "      filter: drop-shadow(0px 1px 2px rgba(0, 0, 0, 0.3));\n",
              "      fill: #FFFFFF;\n",
              "    }\n",
              "  </style>\n",
              "\n",
              "      <script>\n",
              "        const buttonEl =\n",
              "          document.querySelector('#df-25bf3952-2011-4cc5-adf8-31ecd8994164 button.colab-df-convert');\n",
              "        buttonEl.style.display =\n",
              "          google.colab.kernel.accessAllowed ? 'block' : 'none';\n",
              "\n",
              "        async function convertToInteractive(key) {\n",
              "          const element = document.querySelector('#df-25bf3952-2011-4cc5-adf8-31ecd8994164');\n",
              "          const dataTable =\n",
              "            await google.colab.kernel.invokeFunction('convertToInteractive',\n",
              "                                                     [key], {});\n",
              "          if (!dataTable) return;\n",
              "\n",
              "          const docLinkHtml = 'Like what you see? Visit the ' +\n",
              "            '<a target=\"_blank\" href=https://colab.research.google.com/notebooks/data_table.ipynb>data table notebook</a>'\n",
              "            + ' to learn more about interactive tables.';\n",
              "          element.innerHTML = '';\n",
              "          dataTable['output_type'] = 'display_data';\n",
              "          await google.colab.output.renderOutput(dataTable, element);\n",
              "          const docLink = document.createElement('div');\n",
              "          docLink.innerHTML = docLinkHtml;\n",
              "          element.appendChild(docLink);\n",
              "        }\n",
              "      </script>\n",
              "    </div>\n",
              "  </div>\n",
              "  "
            ]
          },
          "metadata": {},
          "execution_count": 9
        }
      ],
      "source": [
        "query = \"\"\" SELECT b.title, COUNT (r.rating_id), AVG (r.rating)\n",
        "            FROM ratings AS r\n",
        "            LEFT JOIN books AS b ON r.book_id = b.book_id\n",
        "            GROUP BY  b.title\n",
        "            \"\"\"\n",
        "# чтобы выполнить SQL-запрос, используем Pandas 2793строк\n",
        "pd.io.sql.read_sql(query, con = engine)"
      ]
    },
    {
      "cell_type": "markdown",
      "metadata": {
        "id": "hLD21UIdDYF6"
      },
      "source": [
        "<div class=\"alert alert-block alert-danger\">✍\n",
        "    \n",
        "\n",
        "__Комментарий от тимлида №1__\n",
        "    \n",
        "Здесь несколько ошибок:    (999)\n",
        "    \n",
        "\n",
        "  \n",
        "1. Посчитай, пожалуйста, сколько всего ревью в БД (можно на 1 этапе), и посмотри какая сумма count_review после твоего запроса\n",
        "    \n",
        "2. Группируешь по Title, а не по ID (у нас 1000 книг изначально в данных)\n",
        "\n",
        "</div>"
      ]
    },
    {
      "cell_type": "markdown",
      "metadata": {
        "id": "ADd7w5y6DYF7"
      },
      "source": [
        "<div class=\"alert alert-info\"> <b>Комментарии студента:</b> Ну вот, теперь правильно.</div>"
      ]
    },
    {
      "cell_type": "code",
      "execution_count": null,
      "metadata": {
        "colab": {
          "base_uri": "https://localhost:8080/",
          "height": 424
        },
        "id": "-HiBtMLaDYF7",
        "outputId": "0d7d8bca-2ef1-407d-c7cb-9eb6c9f7f5a6"
      },
      "outputs": [
        {
          "output_type": "execute_result",
          "data": {
            "text/plain": [
              "                                                 title  count       avg\n",
              "0            The Body in the Library (Miss Marple  #3)      2  4.500000\n",
              "1                                            Galápagos      2  4.500000\n",
              "2                             A Tree Grows in Brooklyn     12  4.250000\n",
              "3    Undaunted Courage: The Pioneering First Missio...      2  4.000000\n",
              "4                                          The Prophet      7  4.285714\n",
              "..                                                 ...    ...       ...\n",
              "995                                Alice in Wonderland     13  4.230769\n",
              "996          A Woman of Substance (Emma Harte Saga #1)      2  5.000000\n",
              "997                                          Christine      7  3.428571\n",
              "998  The Magicians' Guild (Black Magician Trilogy  #1)      2  3.500000\n",
              "999                           The Plot Against America      2  3.000000\n",
              "\n",
              "[1000 rows x 3 columns]"
            ],
            "text/html": [
              "\n",
              "  <div id=\"df-65dd6ae0-8ffa-4e04-9dc3-b880814a4849\">\n",
              "    <div class=\"colab-df-container\">\n",
              "      <div>\n",
              "<style scoped>\n",
              "    .dataframe tbody tr th:only-of-type {\n",
              "        vertical-align: middle;\n",
              "    }\n",
              "\n",
              "    .dataframe tbody tr th {\n",
              "        vertical-align: top;\n",
              "    }\n",
              "\n",
              "    .dataframe thead th {\n",
              "        text-align: right;\n",
              "    }\n",
              "</style>\n",
              "<table border=\"1\" class=\"dataframe\">\n",
              "  <thead>\n",
              "    <tr style=\"text-align: right;\">\n",
              "      <th></th>\n",
              "      <th>title</th>\n",
              "      <th>count</th>\n",
              "      <th>avg</th>\n",
              "    </tr>\n",
              "  </thead>\n",
              "  <tbody>\n",
              "    <tr>\n",
              "      <th>0</th>\n",
              "      <td>The Body in the Library (Miss Marple  #3)</td>\n",
              "      <td>2</td>\n",
              "      <td>4.500000</td>\n",
              "    </tr>\n",
              "    <tr>\n",
              "      <th>1</th>\n",
              "      <td>Galápagos</td>\n",
              "      <td>2</td>\n",
              "      <td>4.500000</td>\n",
              "    </tr>\n",
              "    <tr>\n",
              "      <th>2</th>\n",
              "      <td>A Tree Grows in Brooklyn</td>\n",
              "      <td>12</td>\n",
              "      <td>4.250000</td>\n",
              "    </tr>\n",
              "    <tr>\n",
              "      <th>3</th>\n",
              "      <td>Undaunted Courage: The Pioneering First Missio...</td>\n",
              "      <td>2</td>\n",
              "      <td>4.000000</td>\n",
              "    </tr>\n",
              "    <tr>\n",
              "      <th>4</th>\n",
              "      <td>The Prophet</td>\n",
              "      <td>7</td>\n",
              "      <td>4.285714</td>\n",
              "    </tr>\n",
              "    <tr>\n",
              "      <th>...</th>\n",
              "      <td>...</td>\n",
              "      <td>...</td>\n",
              "      <td>...</td>\n",
              "    </tr>\n",
              "    <tr>\n",
              "      <th>995</th>\n",
              "      <td>Alice in Wonderland</td>\n",
              "      <td>13</td>\n",
              "      <td>4.230769</td>\n",
              "    </tr>\n",
              "    <tr>\n",
              "      <th>996</th>\n",
              "      <td>A Woman of Substance (Emma Harte Saga #1)</td>\n",
              "      <td>2</td>\n",
              "      <td>5.000000</td>\n",
              "    </tr>\n",
              "    <tr>\n",
              "      <th>997</th>\n",
              "      <td>Christine</td>\n",
              "      <td>7</td>\n",
              "      <td>3.428571</td>\n",
              "    </tr>\n",
              "    <tr>\n",
              "      <th>998</th>\n",
              "      <td>The Magicians' Guild (Black Magician Trilogy  #1)</td>\n",
              "      <td>2</td>\n",
              "      <td>3.500000</td>\n",
              "    </tr>\n",
              "    <tr>\n",
              "      <th>999</th>\n",
              "      <td>The Plot Against America</td>\n",
              "      <td>2</td>\n",
              "      <td>3.000000</td>\n",
              "    </tr>\n",
              "  </tbody>\n",
              "</table>\n",
              "<p>1000 rows × 3 columns</p>\n",
              "</div>\n",
              "      <button class=\"colab-df-convert\" onclick=\"convertToInteractive('df-65dd6ae0-8ffa-4e04-9dc3-b880814a4849')\"\n",
              "              title=\"Convert this dataframe to an interactive table.\"\n",
              "              style=\"display:none;\">\n",
              "        \n",
              "  <svg xmlns=\"http://www.w3.org/2000/svg\" height=\"24px\"viewBox=\"0 0 24 24\"\n",
              "       width=\"24px\">\n",
              "    <path d=\"M0 0h24v24H0V0z\" fill=\"none\"/>\n",
              "    <path d=\"M18.56 5.44l.94 2.06.94-2.06 2.06-.94-2.06-.94-.94-2.06-.94 2.06-2.06.94zm-11 1L8.5 8.5l.94-2.06 2.06-.94-2.06-.94L8.5 2.5l-.94 2.06-2.06.94zm10 10l.94 2.06.94-2.06 2.06-.94-2.06-.94-.94-2.06-.94 2.06-2.06.94z\"/><path d=\"M17.41 7.96l-1.37-1.37c-.4-.4-.92-.59-1.43-.59-.52 0-1.04.2-1.43.59L10.3 9.45l-7.72 7.72c-.78.78-.78 2.05 0 2.83L4 21.41c.39.39.9.59 1.41.59.51 0 1.02-.2 1.41-.59l7.78-7.78 2.81-2.81c.8-.78.8-2.07 0-2.86zM5.41 20L4 18.59l7.72-7.72 1.47 1.35L5.41 20z\"/>\n",
              "  </svg>\n",
              "      </button>\n",
              "      \n",
              "  <style>\n",
              "    .colab-df-container {\n",
              "      display:flex;\n",
              "      flex-wrap:wrap;\n",
              "      gap: 12px;\n",
              "    }\n",
              "\n",
              "    .colab-df-convert {\n",
              "      background-color: #E8F0FE;\n",
              "      border: none;\n",
              "      border-radius: 50%;\n",
              "      cursor: pointer;\n",
              "      display: none;\n",
              "      fill: #1967D2;\n",
              "      height: 32px;\n",
              "      padding: 0 0 0 0;\n",
              "      width: 32px;\n",
              "    }\n",
              "\n",
              "    .colab-df-convert:hover {\n",
              "      background-color: #E2EBFA;\n",
              "      box-shadow: 0px 1px 2px rgba(60, 64, 67, 0.3), 0px 1px 3px 1px rgba(60, 64, 67, 0.15);\n",
              "      fill: #174EA6;\n",
              "    }\n",
              "\n",
              "    [theme=dark] .colab-df-convert {\n",
              "      background-color: #3B4455;\n",
              "      fill: #D2E3FC;\n",
              "    }\n",
              "\n",
              "    [theme=dark] .colab-df-convert:hover {\n",
              "      background-color: #434B5C;\n",
              "      box-shadow: 0px 1px 3px 1px rgba(0, 0, 0, 0.15);\n",
              "      filter: drop-shadow(0px 1px 2px rgba(0, 0, 0, 0.3));\n",
              "      fill: #FFFFFF;\n",
              "    }\n",
              "  </style>\n",
              "\n",
              "      <script>\n",
              "        const buttonEl =\n",
              "          document.querySelector('#df-65dd6ae0-8ffa-4e04-9dc3-b880814a4849 button.colab-df-convert');\n",
              "        buttonEl.style.display =\n",
              "          google.colab.kernel.accessAllowed ? 'block' : 'none';\n",
              "\n",
              "        async function convertToInteractive(key) {\n",
              "          const element = document.querySelector('#df-65dd6ae0-8ffa-4e04-9dc3-b880814a4849');\n",
              "          const dataTable =\n",
              "            await google.colab.kernel.invokeFunction('convertToInteractive',\n",
              "                                                     [key], {});\n",
              "          if (!dataTable) return;\n",
              "\n",
              "          const docLinkHtml = 'Like what you see? Visit the ' +\n",
              "            '<a target=\"_blank\" href=https://colab.research.google.com/notebooks/data_table.ipynb>data table notebook</a>'\n",
              "            + ' to learn more about interactive tables.';\n",
              "          element.innerHTML = '';\n",
              "          dataTable['output_type'] = 'display_data';\n",
              "          await google.colab.output.renderOutput(dataTable, element);\n",
              "          const docLink = document.createElement('div');\n",
              "          docLink.innerHTML = docLinkHtml;\n",
              "          element.appendChild(docLink);\n",
              "        }\n",
              "      </script>\n",
              "    </div>\n",
              "  </div>\n",
              "  "
            ]
          },
          "metadata": {},
          "execution_count": 10
        }
      ],
      "source": [
        "query = \"\"\" WITH \n",
        "-- первый подзапрос с псевдонимом r - рейтинг\n",
        "            r AS (SELECT r.book_id, COUNT (r.rating_id), AVG (r.rating)\n",
        "                  FROM ratings AS r\n",
        "                  GROUP BY  r.book_id\n",
        "                  )\n",
        "            SELECT b.title, r.count, r.avg\n",
        "            FROM books AS b --- здесь берем название книги\n",
        "            LEFT JOIN r  ON r.book_id = b.book_id\n",
        "            \"\"\"\n",
        "# чтобы выполнить SQL-запрос, используем Pandas \n",
        "pd.io.sql.read_sql(query, con = engine)"
      ]
    },
    {
      "cell_type": "markdown",
      "metadata": {
        "id": "HpIlMiVODYF9"
      },
      "source": [
        "<div class=\"alert alert-block alert-danger\">✍\n",
        "    \n",
        "\n",
        "__Комментарий от тимлида №2__\n",
        "    \n",
        "\n",
        "    \n",
        "Всего ревью в БД 2793, а у тебя 6456 показывает ниже\n",
        "    \n",
        "\n",
        "</div>"
      ]
    },
    {
      "cell_type": "code",
      "execution_count": null,
      "metadata": {
        "colab": {
          "base_uri": "https://localhost:8080/"
        },
        "id": "QzaTSTnGDYF9",
        "outputId": "f3e95b27-c1ac-48c6-96bc-9ce95895eb98"
      },
      "outputs": [
        {
          "output_type": "execute_result",
          "data": {
            "text/plain": [
              "6456"
            ]
          },
          "metadata": {},
          "execution_count": 11
        }
      ],
      "source": [
        "query = \"\"\" SELECT r.book_id, COUNT (r.rating_id), AVG (r.rating)\n",
        "            FROM ratings AS r\n",
        "            GROUP BY  r.book_id\n",
        "            \"\"\"\n",
        "# чтобы выполнить SQL-запрос, используем Pandas 2793строк\n",
        "pd.io.sql.read_sql(query, con = engine)['count'].sum()"
      ]
    },
    {
      "cell_type": "code",
      "execution_count": null,
      "metadata": {
        "colab": {
          "base_uri": "https://localhost:8080/",
          "height": 424
        },
        "id": "YqSEdJrADYF-",
        "outputId": "4136bf7b-51a5-421b-ef26-99454567c1aa"
      },
      "outputs": [
        {
          "output_type": "execute_result",
          "data": {
            "text/plain": [
              "                                                 title  count       avg\n",
              "0                                         'Salem's Lot      2  3.666667\n",
              "1                   1 000 Places to See Before You Die      1  2.500000\n",
              "2    13 Little Blue Envelopes (Little Blue Envelope...      3  4.666667\n",
              "3    1491: New Revelations of the Americas Before C...      2  4.500000\n",
              "4                                                 1776      4  4.000000\n",
              "..                                                 ...    ...       ...\n",
              "995           Wyrd Sisters (Discworld  #6; Witches #2)      3  3.666667\n",
              "996                        Xenocide (Ender's Saga  #3)      3  3.400000\n",
              "997                                    Year of Wonders      4  3.200000\n",
              "998                        You Suck (A Love Story  #2)      2  4.500000\n",
              "999  Zen and the Art of Motorcycle Maintenance: An ...      4  3.833333\n",
              "\n",
              "[1000 rows x 3 columns]"
            ],
            "text/html": [
              "\n",
              "  <div id=\"df-94674410-5ab5-4b1f-8c31-db2f01a0c9c8\">\n",
              "    <div class=\"colab-df-container\">\n",
              "      <div>\n",
              "<style scoped>\n",
              "    .dataframe tbody tr th:only-of-type {\n",
              "        vertical-align: middle;\n",
              "    }\n",
              "\n",
              "    .dataframe tbody tr th {\n",
              "        vertical-align: top;\n",
              "    }\n",
              "\n",
              "    .dataframe thead th {\n",
              "        text-align: right;\n",
              "    }\n",
              "</style>\n",
              "<table border=\"1\" class=\"dataframe\">\n",
              "  <thead>\n",
              "    <tr style=\"text-align: right;\">\n",
              "      <th></th>\n",
              "      <th>title</th>\n",
              "      <th>count</th>\n",
              "      <th>avg</th>\n",
              "    </tr>\n",
              "  </thead>\n",
              "  <tbody>\n",
              "    <tr>\n",
              "      <th>0</th>\n",
              "      <td>'Salem's Lot</td>\n",
              "      <td>2</td>\n",
              "      <td>3.666667</td>\n",
              "    </tr>\n",
              "    <tr>\n",
              "      <th>1</th>\n",
              "      <td>1 000 Places to See Before You Die</td>\n",
              "      <td>1</td>\n",
              "      <td>2.500000</td>\n",
              "    </tr>\n",
              "    <tr>\n",
              "      <th>2</th>\n",
              "      <td>13 Little Blue Envelopes (Little Blue Envelope...</td>\n",
              "      <td>3</td>\n",
              "      <td>4.666667</td>\n",
              "    </tr>\n",
              "    <tr>\n",
              "      <th>3</th>\n",
              "      <td>1491: New Revelations of the Americas Before C...</td>\n",
              "      <td>2</td>\n",
              "      <td>4.500000</td>\n",
              "    </tr>\n",
              "    <tr>\n",
              "      <th>4</th>\n",
              "      <td>1776</td>\n",
              "      <td>4</td>\n",
              "      <td>4.000000</td>\n",
              "    </tr>\n",
              "    <tr>\n",
              "      <th>...</th>\n",
              "      <td>...</td>\n",
              "      <td>...</td>\n",
              "      <td>...</td>\n",
              "    </tr>\n",
              "    <tr>\n",
              "      <th>995</th>\n",
              "      <td>Wyrd Sisters (Discworld  #6; Witches #2)</td>\n",
              "      <td>3</td>\n",
              "      <td>3.666667</td>\n",
              "    </tr>\n",
              "    <tr>\n",
              "      <th>996</th>\n",
              "      <td>Xenocide (Ender's Saga  #3)</td>\n",
              "      <td>3</td>\n",
              "      <td>3.400000</td>\n",
              "    </tr>\n",
              "    <tr>\n",
              "      <th>997</th>\n",
              "      <td>Year of Wonders</td>\n",
              "      <td>4</td>\n",
              "      <td>3.200000</td>\n",
              "    </tr>\n",
              "    <tr>\n",
              "      <th>998</th>\n",
              "      <td>You Suck (A Love Story  #2)</td>\n",
              "      <td>2</td>\n",
              "      <td>4.500000</td>\n",
              "    </tr>\n",
              "    <tr>\n",
              "      <th>999</th>\n",
              "      <td>Zen and the Art of Motorcycle Maintenance: An ...</td>\n",
              "      <td>4</td>\n",
              "      <td>3.833333</td>\n",
              "    </tr>\n",
              "  </tbody>\n",
              "</table>\n",
              "<p>1000 rows × 3 columns</p>\n",
              "</div>\n",
              "      <button class=\"colab-df-convert\" onclick=\"convertToInteractive('df-94674410-5ab5-4b1f-8c31-db2f01a0c9c8')\"\n",
              "              title=\"Convert this dataframe to an interactive table.\"\n",
              "              style=\"display:none;\">\n",
              "        \n",
              "  <svg xmlns=\"http://www.w3.org/2000/svg\" height=\"24px\"viewBox=\"0 0 24 24\"\n",
              "       width=\"24px\">\n",
              "    <path d=\"M0 0h24v24H0V0z\" fill=\"none\"/>\n",
              "    <path d=\"M18.56 5.44l.94 2.06.94-2.06 2.06-.94-2.06-.94-.94-2.06-.94 2.06-2.06.94zm-11 1L8.5 8.5l.94-2.06 2.06-.94-2.06-.94L8.5 2.5l-.94 2.06-2.06.94zm10 10l.94 2.06.94-2.06 2.06-.94-2.06-.94-.94-2.06-.94 2.06-2.06.94z\"/><path d=\"M17.41 7.96l-1.37-1.37c-.4-.4-.92-.59-1.43-.59-.52 0-1.04.2-1.43.59L10.3 9.45l-7.72 7.72c-.78.78-.78 2.05 0 2.83L4 21.41c.39.39.9.59 1.41.59.51 0 1.02-.2 1.41-.59l7.78-7.78 2.81-2.81c.8-.78.8-2.07 0-2.86zM5.41 20L4 18.59l7.72-7.72 1.47 1.35L5.41 20z\"/>\n",
              "  </svg>\n",
              "      </button>\n",
              "      \n",
              "  <style>\n",
              "    .colab-df-container {\n",
              "      display:flex;\n",
              "      flex-wrap:wrap;\n",
              "      gap: 12px;\n",
              "    }\n",
              "\n",
              "    .colab-df-convert {\n",
              "      background-color: #E8F0FE;\n",
              "      border: none;\n",
              "      border-radius: 50%;\n",
              "      cursor: pointer;\n",
              "      display: none;\n",
              "      fill: #1967D2;\n",
              "      height: 32px;\n",
              "      padding: 0 0 0 0;\n",
              "      width: 32px;\n",
              "    }\n",
              "\n",
              "    .colab-df-convert:hover {\n",
              "      background-color: #E2EBFA;\n",
              "      box-shadow: 0px 1px 2px rgba(60, 64, 67, 0.3), 0px 1px 3px 1px rgba(60, 64, 67, 0.15);\n",
              "      fill: #174EA6;\n",
              "    }\n",
              "\n",
              "    [theme=dark] .colab-df-convert {\n",
              "      background-color: #3B4455;\n",
              "      fill: #D2E3FC;\n",
              "    }\n",
              "\n",
              "    [theme=dark] .colab-df-convert:hover {\n",
              "      background-color: #434B5C;\n",
              "      box-shadow: 0px 1px 3px 1px rgba(0, 0, 0, 0.15);\n",
              "      filter: drop-shadow(0px 1px 2px rgba(0, 0, 0, 0.3));\n",
              "      fill: #FFFFFF;\n",
              "    }\n",
              "  </style>\n",
              "\n",
              "      <script>\n",
              "        const buttonEl =\n",
              "          document.querySelector('#df-94674410-5ab5-4b1f-8c31-db2f01a0c9c8 button.colab-df-convert');\n",
              "        buttonEl.style.display =\n",
              "          google.colab.kernel.accessAllowed ? 'block' : 'none';\n",
              "\n",
              "        async function convertToInteractive(key) {\n",
              "          const element = document.querySelector('#df-94674410-5ab5-4b1f-8c31-db2f01a0c9c8');\n",
              "          const dataTable =\n",
              "            await google.colab.kernel.invokeFunction('convertToInteractive',\n",
              "                                                     [key], {});\n",
              "          if (!dataTable) return;\n",
              "\n",
              "          const docLinkHtml = 'Like what you see? Visit the ' +\n",
              "            '<a target=\"_blank\" href=https://colab.research.google.com/notebooks/data_table.ipynb>data table notebook</a>'\n",
              "            + ' to learn more about interactive tables.';\n",
              "          element.innerHTML = '';\n",
              "          dataTable['output_type'] = 'display_data';\n",
              "          await google.colab.output.renderOutput(dataTable, element);\n",
              "          const docLink = document.createElement('div');\n",
              "          docLink.innerHTML = docLinkHtml;\n",
              "          element.appendChild(docLink);\n",
              "        }\n",
              "      </script>\n",
              "    </div>\n",
              "  </div>\n",
              "  "
            ]
          },
          "metadata": {},
          "execution_count": 12
        }
      ],
      "source": [
        "query = \"\"\" SELECT b.title,\n",
        "                   COUNT (DISTINCT r1.review_id), \n",
        "                   AVG(r.rating)\n",
        "            FROM reviews AS r1\n",
        "            RIGHT JOIN books AS b ON r1.book_id = b.book_id\n",
        "            LEFT JOIN ratings AS r ON b.book_id  = r.book_id\n",
        "            GROUP BY b.book_id\n",
        "            \"\"\"\n",
        "# чтобы выполнить SQL-запрос, используем Pandas \n",
        "pd.io.sql.read_sql(query, con = engine)#['count'].sum()"
      ]
    },
    {
      "cell_type": "markdown",
      "metadata": {
        "id": "yGbt0J6kDYF-"
      },
      "source": [
        "<div class=\"alert alert-info\"> <b>Комментарии студента:</b> Невнимательно вначале прочитал задание. Сейчас исправил.</div>"
      ]
    },
    {
      "cell_type": "markdown",
      "metadata": {
        "id": "7iFwRm_1MaTR"
      },
      "source": [
        "За весь период ведения базы рейтинг был назначен на каждую книгу. Количество ревью в столбце - count, среднее значение рейтингов - в аvg.\n",
        "\n",
        "### Определите издательство, которое выпустило наибольшее число книг толще 50 страниц"
      ]
    },
    {
      "cell_type": "code",
      "execution_count": null,
      "metadata": {
        "colab": {
          "base_uri": "https://localhost:8080/",
          "height": 81
        },
        "id": "opCdWBQQCNzE",
        "outputId": "597cedcb-05e2-4ee3-c052-5fa9da2ab776"
      },
      "outputs": [
        {
          "output_type": "execute_result",
          "data": {
            "text/plain": [
              "   count      publisher\n",
              "0     42  Penguin Books"
            ],
            "text/html": [
              "\n",
              "  <div id=\"df-9d4b6533-9663-40e4-9b9a-bdb6e77ef0bb\">\n",
              "    <div class=\"colab-df-container\">\n",
              "      <div>\n",
              "<style scoped>\n",
              "    .dataframe tbody tr th:only-of-type {\n",
              "        vertical-align: middle;\n",
              "    }\n",
              "\n",
              "    .dataframe tbody tr th {\n",
              "        vertical-align: top;\n",
              "    }\n",
              "\n",
              "    .dataframe thead th {\n",
              "        text-align: right;\n",
              "    }\n",
              "</style>\n",
              "<table border=\"1\" class=\"dataframe\">\n",
              "  <thead>\n",
              "    <tr style=\"text-align: right;\">\n",
              "      <th></th>\n",
              "      <th>count</th>\n",
              "      <th>publisher</th>\n",
              "    </tr>\n",
              "  </thead>\n",
              "  <tbody>\n",
              "    <tr>\n",
              "      <th>0</th>\n",
              "      <td>42</td>\n",
              "      <td>Penguin Books</td>\n",
              "    </tr>\n",
              "  </tbody>\n",
              "</table>\n",
              "</div>\n",
              "      <button class=\"colab-df-convert\" onclick=\"convertToInteractive('df-9d4b6533-9663-40e4-9b9a-bdb6e77ef0bb')\"\n",
              "              title=\"Convert this dataframe to an interactive table.\"\n",
              "              style=\"display:none;\">\n",
              "        \n",
              "  <svg xmlns=\"http://www.w3.org/2000/svg\" height=\"24px\"viewBox=\"0 0 24 24\"\n",
              "       width=\"24px\">\n",
              "    <path d=\"M0 0h24v24H0V0z\" fill=\"none\"/>\n",
              "    <path d=\"M18.56 5.44l.94 2.06.94-2.06 2.06-.94-2.06-.94-.94-2.06-.94 2.06-2.06.94zm-11 1L8.5 8.5l.94-2.06 2.06-.94-2.06-.94L8.5 2.5l-.94 2.06-2.06.94zm10 10l.94 2.06.94-2.06 2.06-.94-2.06-.94-.94-2.06-.94 2.06-2.06.94z\"/><path d=\"M17.41 7.96l-1.37-1.37c-.4-.4-.92-.59-1.43-.59-.52 0-1.04.2-1.43.59L10.3 9.45l-7.72 7.72c-.78.78-.78 2.05 0 2.83L4 21.41c.39.39.9.59 1.41.59.51 0 1.02-.2 1.41-.59l7.78-7.78 2.81-2.81c.8-.78.8-2.07 0-2.86zM5.41 20L4 18.59l7.72-7.72 1.47 1.35L5.41 20z\"/>\n",
              "  </svg>\n",
              "      </button>\n",
              "      \n",
              "  <style>\n",
              "    .colab-df-container {\n",
              "      display:flex;\n",
              "      flex-wrap:wrap;\n",
              "      gap: 12px;\n",
              "    }\n",
              "\n",
              "    .colab-df-convert {\n",
              "      background-color: #E8F0FE;\n",
              "      border: none;\n",
              "      border-radius: 50%;\n",
              "      cursor: pointer;\n",
              "      display: none;\n",
              "      fill: #1967D2;\n",
              "      height: 32px;\n",
              "      padding: 0 0 0 0;\n",
              "      width: 32px;\n",
              "    }\n",
              "\n",
              "    .colab-df-convert:hover {\n",
              "      background-color: #E2EBFA;\n",
              "      box-shadow: 0px 1px 2px rgba(60, 64, 67, 0.3), 0px 1px 3px 1px rgba(60, 64, 67, 0.15);\n",
              "      fill: #174EA6;\n",
              "    }\n",
              "\n",
              "    [theme=dark] .colab-df-convert {\n",
              "      background-color: #3B4455;\n",
              "      fill: #D2E3FC;\n",
              "    }\n",
              "\n",
              "    [theme=dark] .colab-df-convert:hover {\n",
              "      background-color: #434B5C;\n",
              "      box-shadow: 0px 1px 3px 1px rgba(0, 0, 0, 0.15);\n",
              "      filter: drop-shadow(0px 1px 2px rgba(0, 0, 0, 0.3));\n",
              "      fill: #FFFFFF;\n",
              "    }\n",
              "  </style>\n",
              "\n",
              "      <script>\n",
              "        const buttonEl =\n",
              "          document.querySelector('#df-9d4b6533-9663-40e4-9b9a-bdb6e77ef0bb button.colab-df-convert');\n",
              "        buttonEl.style.display =\n",
              "          google.colab.kernel.accessAllowed ? 'block' : 'none';\n",
              "\n",
              "        async function convertToInteractive(key) {\n",
              "          const element = document.querySelector('#df-9d4b6533-9663-40e4-9b9a-bdb6e77ef0bb');\n",
              "          const dataTable =\n",
              "            await google.colab.kernel.invokeFunction('convertToInteractive',\n",
              "                                                     [key], {});\n",
              "          if (!dataTable) return;\n",
              "\n",
              "          const docLinkHtml = 'Like what you see? Visit the ' +\n",
              "            '<a target=\"_blank\" href=https://colab.research.google.com/notebooks/data_table.ipynb>data table notebook</a>'\n",
              "            + ' to learn more about interactive tables.';\n",
              "          element.innerHTML = '';\n",
              "          dataTable['output_type'] = 'display_data';\n",
              "          await google.colab.output.renderOutput(dataTable, element);\n",
              "          const docLink = document.createElement('div');\n",
              "          docLink.innerHTML = docLinkHtml;\n",
              "          element.appendChild(docLink);\n",
              "        }\n",
              "      </script>\n",
              "    </div>\n",
              "  </div>\n",
              "  "
            ]
          },
          "metadata": {},
          "execution_count": 13
        }
      ],
      "source": [
        "query = \"\"\" SELECT *\n",
        "            FROM (SELECT COUNT (book_id) , p.publisher\n",
        "                  FROM books AS b\n",
        "                  LEFT JOIN publishers AS p ON p.publisher_id = b.publisher_id \n",
        "                  WHERE num_pages > 50 \n",
        "                  GROUP BY p.publisher) AS t\n",
        "            ORDER BY count DESC\n",
        "            LIMIT 1     \n",
        "            \"\"\"\n",
        "# чтобы выполнить SQL-запрос, используем Pandas\n",
        "pd.io.sql.read_sql(query, con = engine)"
      ]
    },
    {
      "cell_type": "markdown",
      "metadata": {
        "id": "yNwMwRgVDYF_"
      },
      "source": [
        "<div class=\"alert alert-block alert-success\">✔️\n",
        "    \n",
        "\n",
        "__Комментарий от тимлида №1__\n",
        "\n",
        "Согласен с результатом. Действительно данное издательство является лидером по выпущенным книгам\n",
        "</div>"
      ]
    },
    {
      "cell_type": "markdown",
      "metadata": {
        "id": "SBKt5rBCDYF_"
      },
      "source": [
        "<div class=\"alert alert-info\"> <b>Комментарии студента:</b> Принято.</div>"
      ]
    },
    {
      "cell_type": "markdown",
      "metadata": {
        "id": "cq33TH5vf4Pv"
      },
      "source": [
        "Издательство Penguin Books выпустило больше всего книг (42 шт.) толщиной более 50 страниц.\n",
        "\n",
        "\n",
        "### Определите автора с самой высокой средней оценкой книг — учитывайте только книги с 50 и более оценками"
      ]
    },
    {
      "cell_type": "code",
      "execution_count": null,
      "metadata": {
        "colab": {
          "base_uri": "https://localhost:8080/",
          "height": 81
        },
        "id": "wX6wKTXIHX6k",
        "outputId": "1e2412f6-34f6-4508-f3a0-48743999e836",
        "scrolled": true
      },
      "outputs": [
        {
          "output_type": "execute_result",
          "data": {
            "text/plain": [
              "                       author\n",
              "0  J.K. Rowling/Mary GrandPré"
            ],
            "text/html": [
              "\n",
              "  <div id=\"df-630747ba-afdf-41ed-beb1-116191743f32\">\n",
              "    <div class=\"colab-df-container\">\n",
              "      <div>\n",
              "<style scoped>\n",
              "    .dataframe tbody tr th:only-of-type {\n",
              "        vertical-align: middle;\n",
              "    }\n",
              "\n",
              "    .dataframe tbody tr th {\n",
              "        vertical-align: top;\n",
              "    }\n",
              "\n",
              "    .dataframe thead th {\n",
              "        text-align: right;\n",
              "    }\n",
              "</style>\n",
              "<table border=\"1\" class=\"dataframe\">\n",
              "  <thead>\n",
              "    <tr style=\"text-align: right;\">\n",
              "      <th></th>\n",
              "      <th>author</th>\n",
              "    </tr>\n",
              "  </thead>\n",
              "  <tbody>\n",
              "    <tr>\n",
              "      <th>0</th>\n",
              "      <td>J.K. Rowling/Mary GrandPré</td>\n",
              "    </tr>\n",
              "  </tbody>\n",
              "</table>\n",
              "</div>\n",
              "      <button class=\"colab-df-convert\" onclick=\"convertToInteractive('df-630747ba-afdf-41ed-beb1-116191743f32')\"\n",
              "              title=\"Convert this dataframe to an interactive table.\"\n",
              "              style=\"display:none;\">\n",
              "        \n",
              "  <svg xmlns=\"http://www.w3.org/2000/svg\" height=\"24px\"viewBox=\"0 0 24 24\"\n",
              "       width=\"24px\">\n",
              "    <path d=\"M0 0h24v24H0V0z\" fill=\"none\"/>\n",
              "    <path d=\"M18.56 5.44l.94 2.06.94-2.06 2.06-.94-2.06-.94-.94-2.06-.94 2.06-2.06.94zm-11 1L8.5 8.5l.94-2.06 2.06-.94-2.06-.94L8.5 2.5l-.94 2.06-2.06.94zm10 10l.94 2.06.94-2.06 2.06-.94-2.06-.94-.94-2.06-.94 2.06-2.06.94z\"/><path d=\"M17.41 7.96l-1.37-1.37c-.4-.4-.92-.59-1.43-.59-.52 0-1.04.2-1.43.59L10.3 9.45l-7.72 7.72c-.78.78-.78 2.05 0 2.83L4 21.41c.39.39.9.59 1.41.59.51 0 1.02-.2 1.41-.59l7.78-7.78 2.81-2.81c.8-.78.8-2.07 0-2.86zM5.41 20L4 18.59l7.72-7.72 1.47 1.35L5.41 20z\"/>\n",
              "  </svg>\n",
              "      </button>\n",
              "      \n",
              "  <style>\n",
              "    .colab-df-container {\n",
              "      display:flex;\n",
              "      flex-wrap:wrap;\n",
              "      gap: 12px;\n",
              "    }\n",
              "\n",
              "    .colab-df-convert {\n",
              "      background-color: #E8F0FE;\n",
              "      border: none;\n",
              "      border-radius: 50%;\n",
              "      cursor: pointer;\n",
              "      display: none;\n",
              "      fill: #1967D2;\n",
              "      height: 32px;\n",
              "      padding: 0 0 0 0;\n",
              "      width: 32px;\n",
              "    }\n",
              "\n",
              "    .colab-df-convert:hover {\n",
              "      background-color: #E2EBFA;\n",
              "      box-shadow: 0px 1px 2px rgba(60, 64, 67, 0.3), 0px 1px 3px 1px rgba(60, 64, 67, 0.15);\n",
              "      fill: #174EA6;\n",
              "    }\n",
              "\n",
              "    [theme=dark] .colab-df-convert {\n",
              "      background-color: #3B4455;\n",
              "      fill: #D2E3FC;\n",
              "    }\n",
              "\n",
              "    [theme=dark] .colab-df-convert:hover {\n",
              "      background-color: #434B5C;\n",
              "      box-shadow: 0px 1px 3px 1px rgba(0, 0, 0, 0.15);\n",
              "      filter: drop-shadow(0px 1px 2px rgba(0, 0, 0, 0.3));\n",
              "      fill: #FFFFFF;\n",
              "    }\n",
              "  </style>\n",
              "\n",
              "      <script>\n",
              "        const buttonEl =\n",
              "          document.querySelector('#df-630747ba-afdf-41ed-beb1-116191743f32 button.colab-df-convert');\n",
              "        buttonEl.style.display =\n",
              "          google.colab.kernel.accessAllowed ? 'block' : 'none';\n",
              "\n",
              "        async function convertToInteractive(key) {\n",
              "          const element = document.querySelector('#df-630747ba-afdf-41ed-beb1-116191743f32');\n",
              "          const dataTable =\n",
              "            await google.colab.kernel.invokeFunction('convertToInteractive',\n",
              "                                                     [key], {});\n",
              "          if (!dataTable) return;\n",
              "\n",
              "          const docLinkHtml = 'Like what you see? Visit the ' +\n",
              "            '<a target=\"_blank\" href=https://colab.research.google.com/notebooks/data_table.ipynb>data table notebook</a>'\n",
              "            + ' to learn more about interactive tables.';\n",
              "          element.innerHTML = '';\n",
              "          dataTable['output_type'] = 'display_data';\n",
              "          await google.colab.output.renderOutput(dataTable, element);\n",
              "          const docLink = document.createElement('div');\n",
              "          docLink.innerHTML = docLinkHtml;\n",
              "          element.appendChild(docLink);\n",
              "        }\n",
              "      </script>\n",
              "    </div>\n",
              "  </div>\n",
              "  "
            ]
          },
          "metadata": {},
          "execution_count": 14
        }
      ],
      "source": [
        "query = \"\"\" SELECT author \n",
        "            FROM authors \n",
        "            WHERE author_id IN (SELECT author_id \n",
        "                          FROM books\n",
        "                          WHERE book_id IN (SELECT book_id\n",
        "                              FROM (SELECT book_id, AVG (rating)\n",
        "                                    FROM ratings \n",
        "                                    WHERE book_id IN (SELECT book_id\n",
        "                                                      FROM (SELECT COUNT (rating), book_id\n",
        "                                                            FROM ratings \n",
        "                                                            GROUP BY  book_id\n",
        "                                                            HAVING COUNT(rating) >= 50) AS t)\n",
        "                                   GROUP BY book_id\n",
        "                                   HAVING AVG (rating) > 0\n",
        "                                   ORDER BY avg DESC\n",
        "                                   LIMIT 1\n",
        "                                   ) AS t\n",
        "                              )\n",
        "                             )\n",
        "            \"\"\"\n",
        "# чтобы выполнить SQL-запрос, используем Pandas \n",
        "pd.io.sql.read_sql(query, con = engine)"
      ]
    },
    {
      "cell_type": "markdown",
      "metadata": {
        "id": "RH9CQgdrDYGA"
      },
      "source": [
        "<div class=\"alert alert-block alert-success\">✔️\n",
        "    \n",
        "\n",
        "__Комментарий от тимлида №1__\n",
        "    \n",
        "После стольких лет? Всегда...\n",
        "\n",
        "![image.png](attachment:image.png)"
      ]
    },
    {
      "cell_type": "markdown",
      "metadata": {
        "id": "lQxgs9n5DYGB"
      },
      "source": []
    },
    {
      "cell_type": "markdown",
      "metadata": {
        "id": "Psdsa86unAcc"
      },
      "source": [
        "Это  - J.K. Rowling/Mary GrandPré!\n",
        "\n",
        "### Посчитайте среднее количество обзоров от пользователей, которые поставили больше 50 оценок"
      ]
    },
    {
      "cell_type": "code",
      "execution_count": null,
      "metadata": {
        "colab": {
          "base_uri": "https://localhost:8080/",
          "height": 81
        },
        "id": "F3m_nfhLxS3X",
        "outputId": "189a4dca-ae1a-4f70-a7f0-c03504e8a521",
        "scrolled": true
      },
      "outputs": [
        {
          "output_type": "execute_result",
          "data": {
            "text/plain": [
              "         avg\n",
              "0  24.333333"
            ],
            "text/html": [
              "\n",
              "  <div id=\"df-892fef5c-db63-46ca-a0e1-3d0e04756161\">\n",
              "    <div class=\"colab-df-container\">\n",
              "      <div>\n",
              "<style scoped>\n",
              "    .dataframe tbody tr th:only-of-type {\n",
              "        vertical-align: middle;\n",
              "    }\n",
              "\n",
              "    .dataframe tbody tr th {\n",
              "        vertical-align: top;\n",
              "    }\n",
              "\n",
              "    .dataframe thead th {\n",
              "        text-align: right;\n",
              "    }\n",
              "</style>\n",
              "<table border=\"1\" class=\"dataframe\">\n",
              "  <thead>\n",
              "    <tr style=\"text-align: right;\">\n",
              "      <th></th>\n",
              "      <th>avg</th>\n",
              "    </tr>\n",
              "  </thead>\n",
              "  <tbody>\n",
              "    <tr>\n",
              "      <th>0</th>\n",
              "      <td>24.333333</td>\n",
              "    </tr>\n",
              "  </tbody>\n",
              "</table>\n",
              "</div>\n",
              "      <button class=\"colab-df-convert\" onclick=\"convertToInteractive('df-892fef5c-db63-46ca-a0e1-3d0e04756161')\"\n",
              "              title=\"Convert this dataframe to an interactive table.\"\n",
              "              style=\"display:none;\">\n",
              "        \n",
              "  <svg xmlns=\"http://www.w3.org/2000/svg\" height=\"24px\"viewBox=\"0 0 24 24\"\n",
              "       width=\"24px\">\n",
              "    <path d=\"M0 0h24v24H0V0z\" fill=\"none\"/>\n",
              "    <path d=\"M18.56 5.44l.94 2.06.94-2.06 2.06-.94-2.06-.94-.94-2.06-.94 2.06-2.06.94zm-11 1L8.5 8.5l.94-2.06 2.06-.94-2.06-.94L8.5 2.5l-.94 2.06-2.06.94zm10 10l.94 2.06.94-2.06 2.06-.94-2.06-.94-.94-2.06-.94 2.06-2.06.94z\"/><path d=\"M17.41 7.96l-1.37-1.37c-.4-.4-.92-.59-1.43-.59-.52 0-1.04.2-1.43.59L10.3 9.45l-7.72 7.72c-.78.78-.78 2.05 0 2.83L4 21.41c.39.39.9.59 1.41.59.51 0 1.02-.2 1.41-.59l7.78-7.78 2.81-2.81c.8-.78.8-2.07 0-2.86zM5.41 20L4 18.59l7.72-7.72 1.47 1.35L5.41 20z\"/>\n",
              "  </svg>\n",
              "      </button>\n",
              "      \n",
              "  <style>\n",
              "    .colab-df-container {\n",
              "      display:flex;\n",
              "      flex-wrap:wrap;\n",
              "      gap: 12px;\n",
              "    }\n",
              "\n",
              "    .colab-df-convert {\n",
              "      background-color: #E8F0FE;\n",
              "      border: none;\n",
              "      border-radius: 50%;\n",
              "      cursor: pointer;\n",
              "      display: none;\n",
              "      fill: #1967D2;\n",
              "      height: 32px;\n",
              "      padding: 0 0 0 0;\n",
              "      width: 32px;\n",
              "    }\n",
              "\n",
              "    .colab-df-convert:hover {\n",
              "      background-color: #E2EBFA;\n",
              "      box-shadow: 0px 1px 2px rgba(60, 64, 67, 0.3), 0px 1px 3px 1px rgba(60, 64, 67, 0.15);\n",
              "      fill: #174EA6;\n",
              "    }\n",
              "\n",
              "    [theme=dark] .colab-df-convert {\n",
              "      background-color: #3B4455;\n",
              "      fill: #D2E3FC;\n",
              "    }\n",
              "\n",
              "    [theme=dark] .colab-df-convert:hover {\n",
              "      background-color: #434B5C;\n",
              "      box-shadow: 0px 1px 3px 1px rgba(0, 0, 0, 0.15);\n",
              "      filter: drop-shadow(0px 1px 2px rgba(0, 0, 0, 0.3));\n",
              "      fill: #FFFFFF;\n",
              "    }\n",
              "  </style>\n",
              "\n",
              "      <script>\n",
              "        const buttonEl =\n",
              "          document.querySelector('#df-892fef5c-db63-46ca-a0e1-3d0e04756161 button.colab-df-convert');\n",
              "        buttonEl.style.display =\n",
              "          google.colab.kernel.accessAllowed ? 'block' : 'none';\n",
              "\n",
              "        async function convertToInteractive(key) {\n",
              "          const element = document.querySelector('#df-892fef5c-db63-46ca-a0e1-3d0e04756161');\n",
              "          const dataTable =\n",
              "            await google.colab.kernel.invokeFunction('convertToInteractive',\n",
              "                                                     [key], {});\n",
              "          if (!dataTable) return;\n",
              "\n",
              "          const docLinkHtml = 'Like what you see? Visit the ' +\n",
              "            '<a target=\"_blank\" href=https://colab.research.google.com/notebooks/data_table.ipynb>data table notebook</a>'\n",
              "            + ' to learn more about interactive tables.';\n",
              "          element.innerHTML = '';\n",
              "          dataTable['output_type'] = 'display_data';\n",
              "          await google.colab.output.renderOutput(dataTable, element);\n",
              "          const docLink = document.createElement('div');\n",
              "          docLink.innerHTML = docLinkHtml;\n",
              "          element.appendChild(docLink);\n",
              "        }\n",
              "      </script>\n",
              "    </div>\n",
              "  </div>\n",
              "  "
            ]
          },
          "metadata": {},
          "execution_count": 15
        }
      ],
      "source": [
        "query = \"\"\" SELECT AVG (count)\n",
        "            FROM (SELECT username, COUNT (review_id)\n",
        "                  FROM reviews AS r\n",
        "                  WHERE username IN (SELECT username\n",
        "                                     FROM (SELECT COUNT (rating), username\n",
        "                                     FROM ratings \n",
        "                                     GROUP BY  username\n",
        "                                     HAVING COUNT(rating) > 50) AS t)\n",
        "                  GROUP BY username)  AS tt               \n",
        "            \"\"\"\n",
        "# чтобы выполнить SQL-запрос, используем Pandas 6456строк\n",
        "pd.io.sql.read_sql(query, con = engine)"
      ]
    },
    {
      "cell_type": "markdown",
      "metadata": {
        "id": "SR23o3joDYGB"
      },
      "source": [
        "<div class=\"alert alert-block alert-success\">✔️\n",
        "    \n",
        "\n",
        "__Комментарий от тимлида №1__\n",
        "\n",
        "Ты корректно отобрал пользователей и рассчитал их показатели."
      ]
    },
    {
      "cell_type": "markdown",
      "metadata": {
        "id": "nRwivJtqDYGC"
      },
      "source": [
        "<div class=\"alert alert-info\"> <b>Комментарии студента:</b> Принято.</div>"
      ]
    },
    {
      "cell_type": "markdown",
      "metadata": {
        "id": "_V0hDl4L3ci1"
      },
      "source": [
        "Среднее количество обзоров от пользователей, которые поставили больше 50 оценок - 24 и одна треть.\n",
        "\n",
        "## Общие выводы\n",
        "\n",
        "Все базы исправны и управляемы, данные выгружаются.\n",
        "\n"
      ]
    },
    {
      "cell_type": "markdown",
      "metadata": {
        "id": "K2NPl68TcwVJ"
      },
      "source": [
        "<div class=\"alert alert-block alert-warning\">📝\n",
        "    \n",
        "\n",
        "__Комментарий от тимлида №1__\n",
        "\n",
        "Хорошо бы дать развернутый вывод"
      ]
    },
    {
      "cell_type": "markdown",
      "metadata": {
        "id": "dPTAoO0qcwYj"
      },
      "source": [
        "<div class=\"alert alert-info\"> <b>Комментарии студента:</b> В другой раз. Поздно - ночь.</div>"
      ]
    },
    {
      "cell_type": "code",
      "execution_count": null,
      "metadata": {
        "id": "UbyGM3bAcwaG"
      },
      "outputs": [],
      "source": []
    },
    {
      "cell_type": "code",
      "execution_count": null,
      "metadata": {
        "id": "npfHaGaHcwc7"
      },
      "outputs": [],
      "source": []
    },
    {
      "cell_type": "code",
      "execution_count": null,
      "metadata": {
        "id": "tByt_eH9cwf5",
        "colab": {
          "base_uri": "https://localhost:8080/"
        },
        "outputId": "f0ed4316-988d-487d-f26c-e2f0df9053be"
      },
      "outputs": [
        {
          "output_type": "execute_result",
          "data": {
            "text/plain": [
              "4"
            ]
          },
          "metadata": {},
          "execution_count": 16
        }
      ],
      "source": [
        "2+2"
      ]
    }
  ],
  "metadata": {
    "ExecuteTimeLog": [
      {
        "duration": 9283,
        "start_time": "2023-04-03T19:48:01.217Z"
      },
      {
        "duration": 274,
        "start_time": "2023-04-03T19:48:10.502Z"
      },
      {
        "duration": 70,
        "start_time": "2023-04-03T19:48:10.777Z"
      },
      {
        "duration": 67,
        "start_time": "2023-04-03T19:48:10.849Z"
      },
      {
        "duration": 68,
        "start_time": "2023-04-03T19:48:10.918Z"
      },
      {
        "duration": 69,
        "start_time": "2023-04-03T19:48:10.987Z"
      },
      {
        "duration": 71,
        "start_time": "2023-04-03T19:48:11.058Z"
      },
      {
        "duration": 69,
        "start_time": "2023-04-03T19:48:11.131Z"
      },
      {
        "duration": 78,
        "start_time": "2023-04-03T19:48:11.201Z"
      },
      {
        "duration": 69,
        "start_time": "2023-04-03T19:48:11.281Z"
      },
      {
        "duration": 71,
        "start_time": "2023-04-03T19:48:11.352Z"
      },
      {
        "duration": 72,
        "start_time": "2023-04-03T19:48:11.424Z"
      },
      {
        "duration": 74,
        "start_time": "2023-04-03T19:48:55.047Z"
      },
      {
        "duration": 71,
        "start_time": "2023-04-03T19:48:58.874Z"
      },
      {
        "duration": 67,
        "start_time": "2023-04-03T19:52:34.374Z"
      },
      {
        "duration": 54,
        "start_time": "2023-04-03T19:53:12.756Z"
      },
      {
        "duration": 72,
        "start_time": "2023-04-03T19:54:32.234Z"
      },
      {
        "duration": 68,
        "start_time": "2023-04-03T19:55:50.057Z"
      },
      {
        "duration": 64,
        "start_time": "2023-04-03T20:11:14.783Z"
      },
      {
        "duration": 80,
        "start_time": "2023-04-03T20:11:43.477Z"
      },
      {
        "duration": 58,
        "start_time": "2023-04-03T20:11:58.875Z"
      },
      {
        "duration": 8676,
        "start_time": "2023-04-03T20:12:23.286Z"
      },
      {
        "duration": 91,
        "start_time": "2023-04-03T20:12:31.964Z"
      },
      {
        "duration": 17,
        "start_time": "2023-04-03T20:12:32.057Z"
      },
      {
        "duration": 64,
        "start_time": "2023-04-03T20:12:32.076Z"
      },
      {
        "duration": 50,
        "start_time": "2023-04-03T20:12:32.144Z"
      },
      {
        "duration": 25,
        "start_time": "2023-04-03T20:12:32.195Z"
      },
      {
        "duration": 17,
        "start_time": "2023-04-03T20:12:32.221Z"
      },
      {
        "duration": 10,
        "start_time": "2023-04-03T20:12:32.239Z"
      },
      {
        "duration": 30,
        "start_time": "2023-04-03T20:12:32.251Z"
      },
      {
        "duration": 49,
        "start_time": "2023-04-03T20:12:32.283Z"
      },
      {
        "duration": 14,
        "start_time": "2023-04-03T20:12:32.334Z"
      },
      {
        "duration": 18,
        "start_time": "2023-04-03T20:12:32.350Z"
      },
      {
        "duration": 16,
        "start_time": "2023-04-03T20:12:32.370Z"
      },
      {
        "duration": 23,
        "start_time": "2023-04-03T20:14:51.314Z"
      },
      {
        "duration": 97,
        "start_time": "2023-04-03T20:50:25.441Z"
      },
      {
        "duration": 23,
        "start_time": "2023-04-03T20:52:44.674Z"
      },
      {
        "duration": 8,
        "start_time": "2023-04-03T21:10:14.762Z"
      },
      {
        "duration": 85,
        "start_time": "2023-04-03T21:10:14.773Z"
      },
      {
        "duration": 11,
        "start_time": "2023-04-03T21:10:14.859Z"
      },
      {
        "duration": 9,
        "start_time": "2023-04-03T21:10:14.872Z"
      },
      {
        "duration": 15,
        "start_time": "2023-04-03T21:10:14.883Z"
      },
      {
        "duration": 20,
        "start_time": "2023-04-03T21:10:14.900Z"
      },
      {
        "duration": 11,
        "start_time": "2023-04-03T21:10:14.922Z"
      },
      {
        "duration": 9,
        "start_time": "2023-04-03T21:10:14.934Z"
      },
      {
        "duration": 19,
        "start_time": "2023-04-03T21:10:14.945Z"
      },
      {
        "duration": 20,
        "start_time": "2023-04-03T21:10:14.965Z"
      },
      {
        "duration": 51,
        "start_time": "2023-04-03T21:10:14.988Z"
      },
      {
        "duration": 11,
        "start_time": "2023-04-03T21:10:15.040Z"
      },
      {
        "duration": 14,
        "start_time": "2023-04-03T21:10:15.053Z"
      },
      {
        "duration": 12,
        "start_time": "2023-04-03T21:10:15.069Z"
      },
      {
        "duration": 3,
        "start_time": "2023-04-03T21:10:15.083Z"
      },
      {
        "duration": 13,
        "start_time": "2023-04-03T21:10:29.893Z"
      },
      {
        "duration": 61,
        "start_time": "2023-04-03T21:10:29.915Z"
      },
      {
        "duration": 16,
        "start_time": "2023-04-03T21:10:29.978Z"
      },
      {
        "duration": 41,
        "start_time": "2023-04-03T21:10:29.995Z"
      },
      {
        "duration": 11,
        "start_time": "2023-04-03T21:10:30.038Z"
      },
      {
        "duration": 14,
        "start_time": "2023-04-03T21:10:30.051Z"
      },
      {
        "duration": 12,
        "start_time": "2023-04-03T21:10:30.067Z"
      },
      {
        "duration": 49,
        "start_time": "2023-04-03T21:10:30.081Z"
      },
      {
        "duration": 28,
        "start_time": "2023-04-03T21:10:30.132Z"
      },
      {
        "duration": 25,
        "start_time": "2023-04-03T21:10:30.162Z"
      },
      {
        "duration": 53,
        "start_time": "2023-04-03T21:10:30.197Z"
      },
      {
        "duration": 31,
        "start_time": "2023-04-03T21:10:30.251Z"
      },
      {
        "duration": 46,
        "start_time": "2023-04-03T21:10:30.283Z"
      },
      {
        "duration": 23,
        "start_time": "2023-04-03T21:10:30.332Z"
      },
      {
        "duration": 23,
        "start_time": "2023-04-03T21:10:30.356Z"
      },
      {
        "duration": 9,
        "start_time": "2023-04-03T21:13:00.817Z"
      },
      {
        "duration": 113,
        "start_time": "2023-04-03T21:13:00.830Z"
      },
      {
        "duration": 12,
        "start_time": "2023-04-03T21:13:00.944Z"
      },
      {
        "duration": 64,
        "start_time": "2023-04-03T21:13:00.958Z"
      },
      {
        "duration": 48,
        "start_time": "2023-04-03T21:13:01.025Z"
      },
      {
        "duration": 54,
        "start_time": "2023-04-03T21:13:01.074Z"
      },
      {
        "duration": 99,
        "start_time": "2023-04-03T21:13:01.130Z"
      },
      {
        "duration": 48,
        "start_time": "2023-04-03T21:13:01.231Z"
      },
      {
        "duration": 69,
        "start_time": "2023-04-03T21:13:01.281Z"
      },
      {
        "duration": 78,
        "start_time": "2023-04-03T21:13:01.352Z"
      },
      {
        "duration": 34,
        "start_time": "2023-04-03T21:13:01.432Z"
      },
      {
        "duration": 58,
        "start_time": "2023-04-03T21:13:01.468Z"
      },
      {
        "duration": 54,
        "start_time": "2023-04-03T21:13:01.529Z"
      },
      {
        "duration": 70,
        "start_time": "2023-04-03T21:13:01.586Z"
      },
      {
        "duration": 88,
        "start_time": "2023-04-03T21:13:01.658Z"
      },
      {
        "duration": 8838,
        "start_time": "2023-04-04T00:52:40.848Z"
      },
      {
        "duration": 292,
        "start_time": "2023-04-04T00:52:49.688Z"
      },
      {
        "duration": 76,
        "start_time": "2023-04-04T00:52:49.982Z"
      },
      {
        "duration": 75,
        "start_time": "2023-04-04T00:52:50.060Z"
      },
      {
        "duration": 79,
        "start_time": "2023-04-04T00:52:50.137Z"
      },
      {
        "duration": 73,
        "start_time": "2023-04-04T00:52:50.218Z"
      },
      {
        "duration": 72,
        "start_time": "2023-04-04T00:52:50.293Z"
      },
      {
        "duration": 72,
        "start_time": "2023-04-04T00:52:50.367Z"
      },
      {
        "duration": 86,
        "start_time": "2023-04-04T00:52:50.441Z"
      },
      {
        "duration": 81,
        "start_time": "2023-04-04T00:52:50.529Z"
      },
      {
        "duration": 79,
        "start_time": "2023-04-04T00:52:50.611Z"
      },
      {
        "duration": 74,
        "start_time": "2023-04-04T00:52:50.691Z"
      },
      {
        "duration": 73,
        "start_time": "2023-04-04T00:52:50.766Z"
      },
      {
        "duration": 74,
        "start_time": "2023-04-04T00:52:50.840Z"
      },
      {
        "duration": 3,
        "start_time": "2023-04-04T00:52:50.916Z"
      },
      {
        "duration": 85,
        "start_time": "2023-04-04T00:53:05.255Z"
      },
      {
        "duration": 97,
        "start_time": "2023-04-04T00:53:15.325Z"
      },
      {
        "duration": 96,
        "start_time": "2023-04-04T00:53:19.769Z"
      },
      {
        "duration": 97,
        "start_time": "2023-04-04T00:53:21.417Z"
      },
      {
        "duration": 93,
        "start_time": "2023-04-04T00:53:23.129Z"
      },
      {
        "duration": 99,
        "start_time": "2023-04-04T00:53:25.673Z"
      },
      {
        "duration": 10691,
        "start_time": "2023-04-04T05:39:19.661Z"
      },
      {
        "duration": 307,
        "start_time": "2023-04-04T05:39:30.355Z"
      },
      {
        "duration": 78,
        "start_time": "2023-04-04T05:39:30.665Z"
      },
      {
        "duration": 76,
        "start_time": "2023-04-04T05:39:30.747Z"
      },
      {
        "duration": 73,
        "start_time": "2023-04-04T05:39:30.825Z"
      },
      {
        "duration": 75,
        "start_time": "2023-04-04T05:39:30.900Z"
      },
      {
        "duration": 106,
        "start_time": "2023-04-04T05:39:30.978Z"
      },
      {
        "duration": 79,
        "start_time": "2023-04-04T05:39:31.086Z"
      },
      {
        "duration": 114,
        "start_time": "2023-04-04T05:39:31.167Z"
      },
      {
        "duration": 105,
        "start_time": "2023-04-04T05:39:31.284Z"
      },
      {
        "duration": 75,
        "start_time": "2023-04-04T05:39:31.391Z"
      },
      {
        "duration": 75,
        "start_time": "2023-04-04T05:39:31.468Z"
      },
      {
        "duration": 79,
        "start_time": "2023-04-04T05:39:31.545Z"
      },
      {
        "duration": 75,
        "start_time": "2023-04-04T05:39:31.627Z"
      },
      {
        "duration": 4,
        "start_time": "2023-04-04T05:39:31.704Z"
      },
      {
        "duration": 85,
        "start_time": "2023-04-04T05:51:19.307Z"
      },
      {
        "duration": 104,
        "start_time": "2023-04-04T06:07:34.749Z"
      },
      {
        "duration": 96,
        "start_time": "2023-04-04T06:07:52.073Z"
      },
      {
        "duration": 100,
        "start_time": "2023-04-04T06:18:47.724Z"
      },
      {
        "duration": 6,
        "start_time": "2023-04-04T06:25:11.473Z"
      },
      {
        "duration": 283,
        "start_time": "2023-04-04T06:25:11.482Z"
      },
      {
        "duration": 76,
        "start_time": "2023-04-04T06:25:11.767Z"
      },
      {
        "duration": 82,
        "start_time": "2023-04-04T06:25:11.846Z"
      },
      {
        "duration": 75,
        "start_time": "2023-04-04T06:25:11.930Z"
      },
      {
        "duration": 82,
        "start_time": "2023-04-04T06:25:12.008Z"
      },
      {
        "duration": 72,
        "start_time": "2023-04-04T06:25:12.092Z"
      },
      {
        "duration": 71,
        "start_time": "2023-04-04T06:25:12.166Z"
      },
      {
        "duration": 83,
        "start_time": "2023-04-04T06:25:12.240Z"
      },
      {
        "duration": 89,
        "start_time": "2023-04-04T06:25:12.325Z"
      },
      {
        "duration": 77,
        "start_time": "2023-04-04T06:25:12.416Z"
      },
      {
        "duration": 94,
        "start_time": "2023-04-04T06:25:12.495Z"
      },
      {
        "duration": 78,
        "start_time": "2023-04-04T06:25:12.591Z"
      },
      {
        "duration": 76,
        "start_time": "2023-04-04T06:25:12.671Z"
      },
      {
        "duration": 77,
        "start_time": "2023-04-04T06:25:12.749Z"
      },
      {
        "duration": 4,
        "start_time": "2023-04-04T06:25:12.827Z"
      }
    ],
    "colab": {
      "provenance": [],
      "include_colab_link": true
    },
    "kernelspec": {
      "display_name": "Python 3 (ipykernel)",
      "language": "python",
      "name": "python3"
    },
    "language_info": {
      "codemirror_mode": {
        "name": "ipython",
        "version": 3
      },
      "file_extension": ".py",
      "mimetype": "text/x-python",
      "name": "python",
      "nbconvert_exporter": "python",
      "pygments_lexer": "ipython3",
      "version": "3.9.5"
    },
    "toc": {
      "base_numbering": 1,
      "nav_menu": {},
      "number_sections": true,
      "sideBar": true,
      "skip_h1_title": true,
      "title_cell": "Table of Contents",
      "title_sidebar": "Contents",
      "toc_cell": false,
      "toc_position": {},
      "toc_section_display": true,
      "toc_window_display": true
    }
  },
  "nbformat": 4,
  "nbformat_minor": 0
}