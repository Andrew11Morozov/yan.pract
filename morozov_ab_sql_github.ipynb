{
 "cells": [
  {
   "cell_type": "markdown",
   "metadata": {
    "id": "Mp3wCK6P3M3S"
   },
   "source": [
    "# Учебная финальная работа по SQL\n",
    "\n",
    "## Описание работы\n",
    "\n",
    "Компания купила крупный сервис для чтения книг по подписке. Задача - проанализировать базу данных.\n",
    "\n",
    "В базе данных информация о книгах, издательствах, авторах, а также пользовательские обзоры книг. Эти данные помогут сформулировать ценностное предложение для нового продукта.\n",
    "\n",
    "### Описание данных\n",
    "\n",
    "**Таблица `books`**\n",
    "\n",
    "Содержит данные о книгах:\n",
    "\n",
    "- `book_id` — идентификатор книги;\n",
    "- `author_id` — идентификатор автора;\n",
    "- `title` — название книги;\n",
    "- `num_pages` — количество страниц;\n",
    "- `publication_date` — дата публикации книги;\n",
    "- `publisher_id` — идентификатор издателя.\n",
    "\n",
    "**Таблица `authors`**\n",
    "\n",
    "Содержит данные об авторах:\n",
    "\n",
    "- `author_id` — идентификатор автора;\n",
    "- `author` — имя автора.\n",
    "\n",
    "**Таблица `publishers`**\n",
    "\n",
    "Содержит данные об издательствах:\n",
    "\n",
    "- `publisher_id` — идентификатор издательства;\n",
    "- `publisher` — название издательства;\n",
    "\n",
    "**Таблица `ratings`**\n",
    "\n",
    "Содержит данные о пользовательских оценках книг:\n",
    "\n",
    "- `rating_id` — идентификатор оценки;\n",
    "- `book_id` — идентификатор книги;\n",
    "- `username` — имя пользователя, оставившего оценку;\n",
    "- `rating` — оценка книги.\n",
    "\n",
    "**Таблица `reviews`**\n",
    "\n",
    "Содержит данные о пользовательских обзорах на книги:\n",
    "\n",
    "- `review_id` — идентификатор обзора;\n",
    "- `book_id` — идентификатор книги;\n",
    "- `username` — имя пользователя, написавшего обзор;\n",
    "- `text` — текст обзора.\n",
    "\n",
    "\n",
    "### Цели исследования\n",
    "\n",
    "- Изучение базы данных;\n",
    "- Анализ базы данных;\n",
    "- выполнение запросов для решения каждого задания:\n",
    "\n",
    "    - Посчитайте, сколько книг вышло после 1 января 2000 года;\n",
    "    - Для каждой книги посчитайте количество обзоров и среднюю оценку;\n",
    "    - Определите издательство, которое выпустило наибольшее число книг толще 50 страниц — так вы исключите из анализа брошюры;\n",
    "    - Определите автора с самой высокой средней оценкой книг — учитывайте только книги с 50 и более оценками;\n",
    "    - Посчитайте среднее количество обзоров от пользователей, которые поставили больше 50 оценок."
   ]
  },
  {
   "cell_type": "markdown",
   "metadata": {
    "id": "rvYZ__M_3OzW"
   },
   "source": [
    "## Изучение баз данных\n",
    "\n",
    "### Загрузка библиотек и параметров подключения"
   ]
  },
  {
   "cell_type": "code",
   "execution_count": 20,
   "metadata": {
    "id": "l1vfrnZsIBxZ"
   },
   "outputs": [],
   "source": [
    "# импортируем библиотеки\n",
    "import pandas as pd\n",
    "from sqlalchemy import create_engine\n",
    "# устанавливаем параметры\n",
    "db_config = {'user': 'praktikum_student', # имя пользователя\n",
    "'pwd': 'Sdf4$2;d-d30pp', # пароль\n",
    "'host': 'rc1b-wcoijxj3yxfsf3fs.mdb.yandexcloud.net',\n",
    "'port': 6432, # порт подключения\n",
    "'db': 'data-analyst-final-project-db'} # название базы данных\n",
    "connection_string = 'postgresql://{}:{}@{}:{}/{}'.format(db_config['user'],\n",
    " db_config['pwd'],\n",
    " db_config['host'],\n",
    " db_config['port'],\n",
    " db_config['db'])\n",
    "# сохраняем коннектор\n",
    "engine = create_engine(connection_string, connect_args={'sslmode':'require'})\n"
   ]
  },
  {
   "cell_type": "markdown",
   "metadata": {
    "id": "X91I8EsL7ZRl"
   },
   "source": [
    "### Просмотр всех баз данных\n",
    "\n",
    "Для более глубокого осмысления данных осматриваю данные в два этапа. Сначала весь файл, затем только первую строку. На первом этапе понимаю сколько строк содержит база. "
   ]
  },
  {
   "cell_type": "code",
   "execution_count": 21,
   "metadata": {
    "colab": {
     "base_uri": "https://localhost:8080/",
     "height": 424
    },
    "id": "nd25C4ln7Tya",
    "outputId": "bdd06ada-1990-4c84-b852-c68c90215bce"
   },
   "outputs": [
    {
     "data": {
      "text/html": [
       "<div>\n",
       "<style scoped>\n",
       "    .dataframe tbody tr th:only-of-type {\n",
       "        vertical-align: middle;\n",
       "    }\n",
       "\n",
       "    .dataframe tbody tr th {\n",
       "        vertical-align: top;\n",
       "    }\n",
       "\n",
       "    .dataframe thead th {\n",
       "        text-align: right;\n",
       "    }\n",
       "</style>\n",
       "<table border=\"1\" class=\"dataframe\">\n",
       "  <thead>\n",
       "    <tr style=\"text-align: right;\">\n",
       "      <th></th>\n",
       "      <th>book_id</th>\n",
       "      <th>author_id</th>\n",
       "      <th>title</th>\n",
       "      <th>num_pages</th>\n",
       "      <th>publication_date</th>\n",
       "      <th>publisher_id</th>\n",
       "    </tr>\n",
       "  </thead>\n",
       "  <tbody>\n",
       "    <tr>\n",
       "      <th>0</th>\n",
       "      <td>1</td>\n",
       "      <td>546</td>\n",
       "      <td>'Salem's Lot</td>\n",
       "      <td>594</td>\n",
       "      <td>2005-11-01</td>\n",
       "      <td>93</td>\n",
       "    </tr>\n",
       "    <tr>\n",
       "      <th>1</th>\n",
       "      <td>2</td>\n",
       "      <td>465</td>\n",
       "      <td>1 000 Places to See Before You Die</td>\n",
       "      <td>992</td>\n",
       "      <td>2003-05-22</td>\n",
       "      <td>336</td>\n",
       "    </tr>\n",
       "    <tr>\n",
       "      <th>2</th>\n",
       "      <td>3</td>\n",
       "      <td>407</td>\n",
       "      <td>13 Little Blue Envelopes (Little Blue Envelope...</td>\n",
       "      <td>322</td>\n",
       "      <td>2010-12-21</td>\n",
       "      <td>135</td>\n",
       "    </tr>\n",
       "    <tr>\n",
       "      <th>3</th>\n",
       "      <td>4</td>\n",
       "      <td>82</td>\n",
       "      <td>1491: New Revelations of the Americas Before C...</td>\n",
       "      <td>541</td>\n",
       "      <td>2006-10-10</td>\n",
       "      <td>309</td>\n",
       "    </tr>\n",
       "    <tr>\n",
       "      <th>4</th>\n",
       "      <td>5</td>\n",
       "      <td>125</td>\n",
       "      <td>1776</td>\n",
       "      <td>386</td>\n",
       "      <td>2006-07-04</td>\n",
       "      <td>268</td>\n",
       "    </tr>\n",
       "    <tr>\n",
       "      <th>...</th>\n",
       "      <td>...</td>\n",
       "      <td>...</td>\n",
       "      <td>...</td>\n",
       "      <td>...</td>\n",
       "      <td>...</td>\n",
       "      <td>...</td>\n",
       "    </tr>\n",
       "    <tr>\n",
       "      <th>995</th>\n",
       "      <td>996</td>\n",
       "      <td>571</td>\n",
       "      <td>Wyrd Sisters (Discworld  #6; Witches #2)</td>\n",
       "      <td>265</td>\n",
       "      <td>2001-02-06</td>\n",
       "      <td>147</td>\n",
       "    </tr>\n",
       "    <tr>\n",
       "      <th>996</th>\n",
       "      <td>997</td>\n",
       "      <td>454</td>\n",
       "      <td>Xenocide (Ender's Saga  #3)</td>\n",
       "      <td>592</td>\n",
       "      <td>1996-07-15</td>\n",
       "      <td>297</td>\n",
       "    </tr>\n",
       "    <tr>\n",
       "      <th>997</th>\n",
       "      <td>998</td>\n",
       "      <td>201</td>\n",
       "      <td>Year of Wonders</td>\n",
       "      <td>358</td>\n",
       "      <td>2002-04-30</td>\n",
       "      <td>212</td>\n",
       "    </tr>\n",
       "    <tr>\n",
       "      <th>998</th>\n",
       "      <td>999</td>\n",
       "      <td>94</td>\n",
       "      <td>You Suck (A Love Story  #2)</td>\n",
       "      <td>328</td>\n",
       "      <td>2007-01-16</td>\n",
       "      <td>331</td>\n",
       "    </tr>\n",
       "    <tr>\n",
       "      <th>999</th>\n",
       "      <td>1000</td>\n",
       "      <td>509</td>\n",
       "      <td>Zen and the Art of Motorcycle Maintenance: An ...</td>\n",
       "      <td>540</td>\n",
       "      <td>2006-04-25</td>\n",
       "      <td>143</td>\n",
       "    </tr>\n",
       "  </tbody>\n",
       "</table>\n",
       "<p>1000 rows × 6 columns</p>\n",
       "</div>"
      ],
      "text/plain": [
       "     book_id  author_id                                              title  \\\n",
       "0          1        546                                       'Salem's Lot   \n",
       "1          2        465                 1 000 Places to See Before You Die   \n",
       "2          3        407  13 Little Blue Envelopes (Little Blue Envelope...   \n",
       "3          4         82  1491: New Revelations of the Americas Before C...   \n",
       "4          5        125                                               1776   \n",
       "..       ...        ...                                                ...   \n",
       "995      996        571           Wyrd Sisters (Discworld  #6; Witches #2)   \n",
       "996      997        454                        Xenocide (Ender's Saga  #3)   \n",
       "997      998        201                                    Year of Wonders   \n",
       "998      999         94                        You Suck (A Love Story  #2)   \n",
       "999     1000        509  Zen and the Art of Motorcycle Maintenance: An ...   \n",
       "\n",
       "     num_pages publication_date  publisher_id  \n",
       "0          594       2005-11-01            93  \n",
       "1          992       2003-05-22           336  \n",
       "2          322       2010-12-21           135  \n",
       "3          541       2006-10-10           309  \n",
       "4          386       2006-07-04           268  \n",
       "..         ...              ...           ...  \n",
       "995        265       2001-02-06           147  \n",
       "996        592       1996-07-15           297  \n",
       "997        358       2002-04-30           212  \n",
       "998        328       2007-01-16           331  \n",
       "999        540       2006-04-25           143  \n",
       "\n",
       "[1000 rows x 6 columns]"
      ]
     },
     "execution_count": 21,
     "metadata": {},
     "output_type": "execute_result"
    }
   ],
   "source": [
    "query = \"\"\" SELECT * FROM books \"\"\"\n",
    "# чтобы выполнить SQL-запрос, используем Pandas\n",
    "pd.io.sql.read_sql(query, con = engine)"
   ]
  },
  {
   "cell_type": "code",
   "execution_count": 22,
   "metadata": {
    "colab": {
     "base_uri": "https://localhost:8080/",
     "height": 81
    },
    "id": "E6S212ES55cQ",
    "outputId": "16c1f064-ff51-4a26-dfc5-d8841521a853"
   },
   "outputs": [
    {
     "data": {
      "text/html": [
       "<div>\n",
       "<style scoped>\n",
       "    .dataframe tbody tr th:only-of-type {\n",
       "        vertical-align: middle;\n",
       "    }\n",
       "\n",
       "    .dataframe tbody tr th {\n",
       "        vertical-align: top;\n",
       "    }\n",
       "\n",
       "    .dataframe thead th {\n",
       "        text-align: right;\n",
       "    }\n",
       "</style>\n",
       "<table border=\"1\" class=\"dataframe\">\n",
       "  <thead>\n",
       "    <tr style=\"text-align: right;\">\n",
       "      <th></th>\n",
       "      <th>book_id</th>\n",
       "      <th>author_id</th>\n",
       "      <th>title</th>\n",
       "      <th>num_pages</th>\n",
       "      <th>publication_date</th>\n",
       "      <th>publisher_id</th>\n",
       "    </tr>\n",
       "  </thead>\n",
       "  <tbody>\n",
       "    <tr>\n",
       "      <th>0</th>\n",
       "      <td>1</td>\n",
       "      <td>546</td>\n",
       "      <td>'Salem's Lot</td>\n",
       "      <td>594</td>\n",
       "      <td>2005-11-01</td>\n",
       "      <td>93</td>\n",
       "    </tr>\n",
       "  </tbody>\n",
       "</table>\n",
       "</div>"
      ],
      "text/plain": [
       "   book_id  author_id         title  num_pages publication_date  publisher_id\n",
       "0        1        546  'Salem's Lot        594       2005-11-01            93"
      ]
     },
     "execution_count": 22,
     "metadata": {},
     "output_type": "execute_result"
    }
   ],
   "source": [
    "query = \"\"\" SELECT * \n",
    "            FROM books\n",
    "            LIMIT 1 \"\"\"\n",
    "# чтобы выполнить SQL-запрос, используем Pandas\n",
    "pd.io.sql.read_sql(query, con = engine)"
   ]
  },
  {
   "cell_type": "code",
   "execution_count": 23,
   "metadata": {
    "colab": {
     "base_uri": "https://localhost:8080/",
     "height": 81
    },
    "id": "Ua37COM9LHNO",
    "outputId": "45c2ead2-cf7e-4f0c-8abe-82a367bb1292"
   },
   "outputs": [
    {
     "data": {
      "text/html": [
       "<div>\n",
       "<style scoped>\n",
       "    .dataframe tbody tr th:only-of-type {\n",
       "        vertical-align: middle;\n",
       "    }\n",
       "\n",
       "    .dataframe tbody tr th {\n",
       "        vertical-align: top;\n",
       "    }\n",
       "\n",
       "    .dataframe thead th {\n",
       "        text-align: right;\n",
       "    }\n",
       "</style>\n",
       "<table border=\"1\" class=\"dataframe\">\n",
       "  <thead>\n",
       "    <tr style=\"text-align: right;\">\n",
       "      <th></th>\n",
       "      <th>author_id</th>\n",
       "      <th>author</th>\n",
       "    </tr>\n",
       "  </thead>\n",
       "  <tbody>\n",
       "    <tr>\n",
       "      <th>0</th>\n",
       "      <td>1</td>\n",
       "      <td>A.S. Byatt</td>\n",
       "    </tr>\n",
       "  </tbody>\n",
       "</table>\n",
       "</div>"
      ],
      "text/plain": [
       "   author_id      author\n",
       "0          1  A.S. Byatt"
      ]
     },
     "execution_count": 23,
     "metadata": {},
     "output_type": "execute_result"
    }
   ],
   "source": [
    "query = \"\"\" SELECT * \n",
    "            FROM authors \n",
    "            LIMIT 1\"\"\"\n",
    "# чтобы выполнить SQL-запрос, используем Pandas 636строк\n",
    "pd.io.sql.read_sql(query, con = engine)"
   ]
  },
  {
   "cell_type": "code",
   "execution_count": 24,
   "metadata": {
    "colab": {
     "base_uri": "https://localhost:8080/",
     "height": 81
    },
    "id": "bDLt1pNsRX8a",
    "outputId": "a9587c2d-4ceb-46a2-ebd0-7e422a1e12be"
   },
   "outputs": [
    {
     "data": {
      "text/html": [
       "<div>\n",
       "<style scoped>\n",
       "    .dataframe tbody tr th:only-of-type {\n",
       "        vertical-align: middle;\n",
       "    }\n",
       "\n",
       "    .dataframe tbody tr th {\n",
       "        vertical-align: top;\n",
       "    }\n",
       "\n",
       "    .dataframe thead th {\n",
       "        text-align: right;\n",
       "    }\n",
       "</style>\n",
       "<table border=\"1\" class=\"dataframe\">\n",
       "  <thead>\n",
       "    <tr style=\"text-align: right;\">\n",
       "      <th></th>\n",
       "      <th>publisher_id</th>\n",
       "      <th>publisher</th>\n",
       "    </tr>\n",
       "  </thead>\n",
       "  <tbody>\n",
       "    <tr>\n",
       "      <th>0</th>\n",
       "      <td>1</td>\n",
       "      <td>Ace</td>\n",
       "    </tr>\n",
       "  </tbody>\n",
       "</table>\n",
       "</div>"
      ],
      "text/plain": [
       "   publisher_id publisher\n",
       "0             1       Ace"
      ]
     },
     "execution_count": 24,
     "metadata": {},
     "output_type": "execute_result"
    }
   ],
   "source": [
    "query = \"\"\" SELECT * \n",
    "            FROM publishers \n",
    "            LIMIT 1 \"\"\"\n",
    "# чтобы выполнить SQL-запрос, используем Pandas 340строк\n",
    "pd.io.sql.read_sql(query, con = engine)"
   ]
  },
  {
   "cell_type": "code",
   "execution_count": 25,
   "metadata": {
    "colab": {
     "base_uri": "https://localhost:8080/",
     "height": 81
    },
    "id": "KnOG6-YxCNSq",
    "outputId": "cfc32dbe-bd3e-476e-92cf-3cb1fb36b049"
   },
   "outputs": [
    {
     "data": {
      "text/html": [
       "<div>\n",
       "<style scoped>\n",
       "    .dataframe tbody tr th:only-of-type {\n",
       "        vertical-align: middle;\n",
       "    }\n",
       "\n",
       "    .dataframe tbody tr th {\n",
       "        vertical-align: top;\n",
       "    }\n",
       "\n",
       "    .dataframe thead th {\n",
       "        text-align: right;\n",
       "    }\n",
       "</style>\n",
       "<table border=\"1\" class=\"dataframe\">\n",
       "  <thead>\n",
       "    <tr style=\"text-align: right;\">\n",
       "      <th></th>\n",
       "      <th>rating_id</th>\n",
       "      <th>book_id</th>\n",
       "      <th>username</th>\n",
       "      <th>rating</th>\n",
       "    </tr>\n",
       "  </thead>\n",
       "  <tbody>\n",
       "    <tr>\n",
       "      <th>0</th>\n",
       "      <td>1</td>\n",
       "      <td>1</td>\n",
       "      <td>ryanfranco</td>\n",
       "      <td>4</td>\n",
       "    </tr>\n",
       "  </tbody>\n",
       "</table>\n",
       "</div>"
      ],
      "text/plain": [
       "   rating_id  book_id    username  rating\n",
       "0          1        1  ryanfranco       4"
      ]
     },
     "execution_count": 25,
     "metadata": {},
     "output_type": "execute_result"
    }
   ],
   "source": [
    "query = \"\"\" SELECT *\n",
    "            FROM ratings \n",
    "            LIMIT 1\"\"\"\n",
    "# чтобы выполнить SQL-запрос, используем Pandas 2793строк\n",
    "pd.io.sql.read_sql(query, con = engine)"
   ]
  },
  {
   "cell_type": "code",
   "execution_count": 26,
   "metadata": {
    "colab": {
     "base_uri": "https://localhost:8080/",
     "height": 81
    },
    "id": "EeoCBFvUCNa3",
    "outputId": "cf577c57-032e-4629-9727-bc5d7563a829",
    "scrolled": true
   },
   "outputs": [
    {
     "data": {
      "text/html": [
       "<div>\n",
       "<style scoped>\n",
       "    .dataframe tbody tr th:only-of-type {\n",
       "        vertical-align: middle;\n",
       "    }\n",
       "\n",
       "    .dataframe tbody tr th {\n",
       "        vertical-align: top;\n",
       "    }\n",
       "\n",
       "    .dataframe thead th {\n",
       "        text-align: right;\n",
       "    }\n",
       "</style>\n",
       "<table border=\"1\" class=\"dataframe\">\n",
       "  <thead>\n",
       "    <tr style=\"text-align: right;\">\n",
       "      <th></th>\n",
       "      <th>review_id</th>\n",
       "      <th>book_id</th>\n",
       "      <th>username</th>\n",
       "      <th>text</th>\n",
       "    </tr>\n",
       "  </thead>\n",
       "  <tbody>\n",
       "    <tr>\n",
       "      <th>0</th>\n",
       "      <td>1</td>\n",
       "      <td>1</td>\n",
       "      <td>brandtandrea</td>\n",
       "      <td>Mention society tell send professor analysis. ...</td>\n",
       "    </tr>\n",
       "  </tbody>\n",
       "</table>\n",
       "</div>"
      ],
      "text/plain": [
       "   review_id  book_id      username  \\\n",
       "0          1        1  brandtandrea   \n",
       "\n",
       "                                                text  \n",
       "0  Mention society tell send professor analysis. ...  "
      ]
     },
     "execution_count": 26,
     "metadata": {},
     "output_type": "execute_result"
    }
   ],
   "source": [
    "query = \"\"\" SELECT *\n",
    "            FROM reviews AS r\n",
    "                        LIMIT 1\"\"\"\n",
    "# чтобы выполнить SQL-запрос, используем Pandas 6456строк\n",
    "pd.io.sql.read_sql(query, con = engine)"
   ]
  },
  {
   "cell_type": "markdown",
   "metadata": {
    "id": "EYZxWClIEDSn"
   },
   "source": [
    "### Выводы\n",
    "\n",
    "В первой части работы были выполнены выгрузки баз  данных. Базы выгрузились нормально, сведения подтверждают ранее объявленные структуры. Число строк в базах:\n",
    "\n",
    "- books - 1000 строк;\n",
    "- authors - 636 строк;\n",
    "- publishers - 340 строк;\n",
    "- ratings - 2793 строки;\n",
    "- reviews - 6456 строк."
   ]
  },
  {
   "cell_type": "markdown",
   "metadata": {
    "id": "YPbtasC8GFuL"
   },
   "source": [
    "## SQL-запросы для решения задания\n",
    "\n",
    "### Посчитайте, сколько книг вышло после 1 января 2000 года"
   ]
  },
  {
   "cell_type": "code",
   "execution_count": 27,
   "metadata": {
    "colab": {
     "base_uri": "https://localhost:8080/",
     "height": 81
    },
    "id": "WnxoNspfCNeL",
    "outputId": "8bbee2db-6d92-4a2f-8859-18ecfacd8e0a"
   },
   "outputs": [
    {
     "data": {
      "text/html": [
       "<div>\n",
       "<style scoped>\n",
       "    .dataframe tbody tr th:only-of-type {\n",
       "        vertical-align: middle;\n",
       "    }\n",
       "\n",
       "    .dataframe tbody tr th {\n",
       "        vertical-align: top;\n",
       "    }\n",
       "\n",
       "    .dataframe thead th {\n",
       "        text-align: right;\n",
       "    }\n",
       "</style>\n",
       "<table border=\"1\" class=\"dataframe\">\n",
       "  <thead>\n",
       "    <tr style=\"text-align: right;\">\n",
       "      <th></th>\n",
       "      <th>count</th>\n",
       "    </tr>\n",
       "  </thead>\n",
       "  <tbody>\n",
       "    <tr>\n",
       "      <th>0</th>\n",
       "      <td>819</td>\n",
       "    </tr>\n",
       "  </tbody>\n",
       "</table>\n",
       "</div>"
      ],
      "text/plain": [
       "   count\n",
       "0    819"
      ]
     },
     "execution_count": 27,
     "metadata": {},
     "output_type": "execute_result"
    }
   ],
   "source": [
    "query = \"\"\" SELECT COUNT (book_id)  \n",
    "            FROM books\n",
    "            WHERE publication_date > '2000-01-01' \"\"\"\n",
    "# чтобы выполнить SQL-запрос, используем Pandas\n",
    "pd.io.sql.read_sql(query, con = engine)"
   ]
  },
  {
   "cell_type": "markdown",
   "metadata": {
    "id": "i2HiCtKHIqUt"
   },
   "source": [
    "В период с 1 января 2000 года по данным базы book_id вышло 819 книг\n",
    "\n",
    "### Для каждой книги посчитайте количество обзоров и среднюю оценку"
   ]
  },
  {
   "cell_type": "code",
   "execution_count": 31,
   "metadata": {},
   "outputs": [
    {
     "data": {
      "text/html": [
       "<div>\n",
       "<style scoped>\n",
       "    .dataframe tbody tr th:only-of-type {\n",
       "        vertical-align: middle;\n",
       "    }\n",
       "\n",
       "    .dataframe tbody tr th {\n",
       "        vertical-align: top;\n",
       "    }\n",
       "\n",
       "    .dataframe thead th {\n",
       "        text-align: right;\n",
       "    }\n",
       "</style>\n",
       "<table border=\"1\" class=\"dataframe\">\n",
       "  <thead>\n",
       "    <tr style=\"text-align: right;\">\n",
       "      <th></th>\n",
       "      <th>title</th>\n",
       "      <th>count</th>\n",
       "      <th>avg</th>\n",
       "    </tr>\n",
       "  </thead>\n",
       "  <tbody>\n",
       "    <tr>\n",
       "      <th>0</th>\n",
       "      <td>'Salem's Lot</td>\n",
       "      <td>2</td>\n",
       "      <td>3.666667</td>\n",
       "    </tr>\n",
       "    <tr>\n",
       "      <th>1</th>\n",
       "      <td>1 000 Places to See Before You Die</td>\n",
       "      <td>1</td>\n",
       "      <td>2.500000</td>\n",
       "    </tr>\n",
       "    <tr>\n",
       "      <th>2</th>\n",
       "      <td>13 Little Blue Envelopes (Little Blue Envelope...</td>\n",
       "      <td>3</td>\n",
       "      <td>4.666667</td>\n",
       "    </tr>\n",
       "    <tr>\n",
       "      <th>3</th>\n",
       "      <td>1491: New Revelations of the Americas Before C...</td>\n",
       "      <td>2</td>\n",
       "      <td>4.500000</td>\n",
       "    </tr>\n",
       "    <tr>\n",
       "      <th>4</th>\n",
       "      <td>1776</td>\n",
       "      <td>4</td>\n",
       "      <td>4.000000</td>\n",
       "    </tr>\n",
       "    <tr>\n",
       "      <th>...</th>\n",
       "      <td>...</td>\n",
       "      <td>...</td>\n",
       "      <td>...</td>\n",
       "    </tr>\n",
       "    <tr>\n",
       "      <th>995</th>\n",
       "      <td>Wyrd Sisters (Discworld  #6; Witches #2)</td>\n",
       "      <td>3</td>\n",
       "      <td>3.666667</td>\n",
       "    </tr>\n",
       "    <tr>\n",
       "      <th>996</th>\n",
       "      <td>Xenocide (Ender's Saga  #3)</td>\n",
       "      <td>3</td>\n",
       "      <td>3.400000</td>\n",
       "    </tr>\n",
       "    <tr>\n",
       "      <th>997</th>\n",
       "      <td>Year of Wonders</td>\n",
       "      <td>4</td>\n",
       "      <td>3.200000</td>\n",
       "    </tr>\n",
       "    <tr>\n",
       "      <th>998</th>\n",
       "      <td>You Suck (A Love Story  #2)</td>\n",
       "      <td>2</td>\n",
       "      <td>4.500000</td>\n",
       "    </tr>\n",
       "    <tr>\n",
       "      <th>999</th>\n",
       "      <td>Zen and the Art of Motorcycle Maintenance: An ...</td>\n",
       "      <td>4</td>\n",
       "      <td>3.833333</td>\n",
       "    </tr>\n",
       "  </tbody>\n",
       "</table>\n",
       "<p>1000 rows × 3 columns</p>\n",
       "</div>"
      ],
      "text/plain": [
       "                                                 title  count       avg\n",
       "0                                         'Salem's Lot      2  3.666667\n",
       "1                   1 000 Places to See Before You Die      1  2.500000\n",
       "2    13 Little Blue Envelopes (Little Blue Envelope...      3  4.666667\n",
       "3    1491: New Revelations of the Americas Before C...      2  4.500000\n",
       "4                                                 1776      4  4.000000\n",
       "..                                                 ...    ...       ...\n",
       "995           Wyrd Sisters (Discworld  #6; Witches #2)      3  3.666667\n",
       "996                        Xenocide (Ender's Saga  #3)      3  3.400000\n",
       "997                                    Year of Wonders      4  3.200000\n",
       "998                        You Suck (A Love Story  #2)      2  4.500000\n",
       "999  Zen and the Art of Motorcycle Maintenance: An ...      4  3.833333\n",
       "\n",
       "[1000 rows x 3 columns]"
      ]
     },
     "execution_count": 31,
     "metadata": {},
     "output_type": "execute_result"
    }
   ],
   "source": [
    "query = \"\"\" SELECT b.title,\n",
    "                   COUNT (DISTINCT r1.review_id), \n",
    "                   AVG(r.rating)\n",
    "            FROM reviews AS r1\n",
    "            RIGHT JOIN books AS b ON r1.book_id = b.book_id\n",
    "            LEFT JOIN ratings AS r ON b.book_id  = r.book_id\n",
    "            GROUP BY b.book_id\n",
    "            \"\"\"\n",
    "# чтобы выполнить SQL-запрос, используем Pandas \n",
    "pd.io.sql.read_sql(query, con = engine)#['count'].sum()"
   ]
  },
  {
   "cell_type": "markdown",
   "metadata": {
    "id": "7iFwRm_1MaTR"
   },
   "source": [
    "За весь период ведения базы рейтинг был назначен на каждую книгу. Количество ревью в столбце - count, среднее значение рейтингов - в аvg.\n",
    "\n",
    "### Определите издательство, которое выпустило наибольшее число книг толще 50 страниц"
   ]
  },
  {
   "cell_type": "code",
   "execution_count": 32,
   "metadata": {
    "colab": {
     "base_uri": "https://localhost:8080/",
     "height": 81
    },
    "id": "opCdWBQQCNzE",
    "outputId": "e67b8b32-463a-48ba-bfc3-14cc9a3a46f3"
   },
   "outputs": [
    {
     "data": {
      "text/html": [
       "<div>\n",
       "<style scoped>\n",
       "    .dataframe tbody tr th:only-of-type {\n",
       "        vertical-align: middle;\n",
       "    }\n",
       "\n",
       "    .dataframe tbody tr th {\n",
       "        vertical-align: top;\n",
       "    }\n",
       "\n",
       "    .dataframe thead th {\n",
       "        text-align: right;\n",
       "    }\n",
       "</style>\n",
       "<table border=\"1\" class=\"dataframe\">\n",
       "  <thead>\n",
       "    <tr style=\"text-align: right;\">\n",
       "      <th></th>\n",
       "      <th>count</th>\n",
       "      <th>publisher</th>\n",
       "    </tr>\n",
       "  </thead>\n",
       "  <tbody>\n",
       "    <tr>\n",
       "      <th>0</th>\n",
       "      <td>42</td>\n",
       "      <td>Penguin Books</td>\n",
       "    </tr>\n",
       "  </tbody>\n",
       "</table>\n",
       "</div>"
      ],
      "text/plain": [
       "   count      publisher\n",
       "0     42  Penguin Books"
      ]
     },
     "execution_count": 32,
     "metadata": {},
     "output_type": "execute_result"
    }
   ],
   "source": [
    "query = \"\"\" SELECT *\n",
    "            FROM (SELECT COUNT (book_id) , p.publisher\n",
    "                  FROM books AS b\n",
    "                  LEFT JOIN publishers AS p ON p.publisher_id = b.publisher_id \n",
    "                  WHERE num_pages > 50 \n",
    "                  GROUP BY p.publisher) AS t\n",
    "            ORDER BY count DESC\n",
    "            LIMIT 1     \n",
    "            \"\"\"\n",
    "# чтобы выполнить SQL-запрос, используем Pandas\n",
    "pd.io.sql.read_sql(query, con = engine)"
   ]
  },
  {
   "cell_type": "markdown",
   "metadata": {
    "id": "cq33TH5vf4Pv"
   },
   "source": [
    "Издательство Penguin Books выпустило больше всего книг (42 шт.) толщиной более 50 страниц.\n",
    "\n",
    "\n",
    "### Определите автора с самой высокой средней оценкой книг — учитывайте только книги с 50 и более оценками"
   ]
  },
  {
   "cell_type": "code",
   "execution_count": 33,
   "metadata": {
    "colab": {
     "base_uri": "https://localhost:8080/",
     "height": 81
    },
    "id": "wX6wKTXIHX6k",
    "outputId": "42aa8e3e-019b-4cb0-8b58-6df97ad58d7d",
    "scrolled": true
   },
   "outputs": [
    {
     "data": {
      "text/html": [
       "<div>\n",
       "<style scoped>\n",
       "    .dataframe tbody tr th:only-of-type {\n",
       "        vertical-align: middle;\n",
       "    }\n",
       "\n",
       "    .dataframe tbody tr th {\n",
       "        vertical-align: top;\n",
       "    }\n",
       "\n",
       "    .dataframe thead th {\n",
       "        text-align: right;\n",
       "    }\n",
       "</style>\n",
       "<table border=\"1\" class=\"dataframe\">\n",
       "  <thead>\n",
       "    <tr style=\"text-align: right;\">\n",
       "      <th></th>\n",
       "      <th>author</th>\n",
       "    </tr>\n",
       "  </thead>\n",
       "  <tbody>\n",
       "    <tr>\n",
       "      <th>0</th>\n",
       "      <td>J.K. Rowling/Mary GrandPré</td>\n",
       "    </tr>\n",
       "  </tbody>\n",
       "</table>\n",
       "</div>"
      ],
      "text/plain": [
       "                       author\n",
       "0  J.K. Rowling/Mary GrandPré"
      ]
     },
     "execution_count": 33,
     "metadata": {},
     "output_type": "execute_result"
    }
   ],
   "source": [
    "query = \"\"\" SELECT author \n",
    "            FROM authors \n",
    "            WHERE author_id IN (SELECT author_id \n",
    "                          FROM books\n",
    "                          WHERE book_id IN (SELECT book_id\n",
    "                              FROM (SELECT book_id, AVG (rating)\n",
    "                                    FROM ratings \n",
    "                                    WHERE book_id IN (SELECT book_id\n",
    "                                                      FROM (SELECT COUNT (rating), book_id\n",
    "                                                            FROM ratings \n",
    "                                                            GROUP BY  book_id\n",
    "                                                            HAVING COUNT(rating) >= 50) AS t)\n",
    "                                   GROUP BY book_id\n",
    "                                   HAVING AVG (rating) > 0\n",
    "                                   ORDER BY avg DESC\n",
    "                                   LIMIT 1\n",
    "                                   ) AS t\n",
    "                              )\n",
    "                             )\n",
    "            \"\"\"\n",
    "# чтобы выполнить SQL-запрос, используем Pandas \n",
    "pd.io.sql.read_sql(query, con = engine)"
   ]
  },
  {
   "cell_type": "markdown",
   "metadata": {
    "id": "Psdsa86unAcc"
   },
   "source": [
    "Это  - J.K. Rowling/Mary GrandPré!\n",
    "\n",
    "### Посчитайте среднее количество обзоров от пользователей, которые поставили больше 50 оценок"
   ]
  },
  {
   "cell_type": "code",
   "execution_count": 34,
   "metadata": {
    "colab": {
     "base_uri": "https://localhost:8080/",
     "height": 81
    },
    "id": "F3m_nfhLxS3X",
    "outputId": "db35a5c7-f335-4693-a2b4-63ba05fa247f",
    "scrolled": true
   },
   "outputs": [
    {
     "data": {
      "text/html": [
       "<div>\n",
       "<style scoped>\n",
       "    .dataframe tbody tr th:only-of-type {\n",
       "        vertical-align: middle;\n",
       "    }\n",
       "\n",
       "    .dataframe tbody tr th {\n",
       "        vertical-align: top;\n",
       "    }\n",
       "\n",
       "    .dataframe thead th {\n",
       "        text-align: right;\n",
       "    }\n",
       "</style>\n",
       "<table border=\"1\" class=\"dataframe\">\n",
       "  <thead>\n",
       "    <tr style=\"text-align: right;\">\n",
       "      <th></th>\n",
       "      <th>avg</th>\n",
       "    </tr>\n",
       "  </thead>\n",
       "  <tbody>\n",
       "    <tr>\n",
       "      <th>0</th>\n",
       "      <td>24.333333</td>\n",
       "    </tr>\n",
       "  </tbody>\n",
       "</table>\n",
       "</div>"
      ],
      "text/plain": [
       "         avg\n",
       "0  24.333333"
      ]
     },
     "execution_count": 34,
     "metadata": {},
     "output_type": "execute_result"
    }
   ],
   "source": [
    "query = \"\"\" SELECT AVG (count)\n",
    "            FROM (SELECT username, COUNT (review_id)\n",
    "                  FROM reviews AS r\n",
    "                  WHERE username IN (SELECT username\n",
    "                                     FROM (SELECT COUNT (rating), username\n",
    "                                     FROM ratings \n",
    "                                     GROUP BY  username\n",
    "                                     HAVING COUNT(rating) > 50) AS t)\n",
    "                  GROUP BY username)  AS tt               \n",
    "            \"\"\"\n",
    "# чтобы выполнить SQL-запрос, используем Pandas 6456строк\n",
    "pd.io.sql.read_sql(query, con = engine)"
   ]
  },
  {
   "cell_type": "markdown",
   "metadata": {
    "id": "_V0hDl4L3ci1"
   },
   "source": [
    "Среднее количество обзоров от пользователей, которые поставили больше 50 оценок - 24 и одна треть.\n",
    "\n",
    "## Общие выводы\n",
    "\n",
    "Все базы исправны и управляемы, данные выгружаются.\n",
    "\n"
   ]
  }
 ],
 "metadata": {
  "ExecuteTimeLog": [
   {
    "duration": 9283,
    "start_time": "2023-04-03T19:48:01.217Z"
   },
   {
    "duration": 274,
    "start_time": "2023-04-03T19:48:10.502Z"
   },
   {
    "duration": 70,
    "start_time": "2023-04-03T19:48:10.777Z"
   },
   {
    "duration": 67,
    "start_time": "2023-04-03T19:48:10.849Z"
   },
   {
    "duration": 68,
    "start_time": "2023-04-03T19:48:10.918Z"
   },
   {
    "duration": 69,
    "start_time": "2023-04-03T19:48:10.987Z"
   },
   {
    "duration": 71,
    "start_time": "2023-04-03T19:48:11.058Z"
   },
   {
    "duration": 69,
    "start_time": "2023-04-03T19:48:11.131Z"
   },
   {
    "duration": 78,
    "start_time": "2023-04-03T19:48:11.201Z"
   },
   {
    "duration": 69,
    "start_time": "2023-04-03T19:48:11.281Z"
   },
   {
    "duration": 71,
    "start_time": "2023-04-03T19:48:11.352Z"
   },
   {
    "duration": 72,
    "start_time": "2023-04-03T19:48:11.424Z"
   },
   {
    "duration": 74,
    "start_time": "2023-04-03T19:48:55.047Z"
   },
   {
    "duration": 71,
    "start_time": "2023-04-03T19:48:58.874Z"
   },
   {
    "duration": 67,
    "start_time": "2023-04-03T19:52:34.374Z"
   },
   {
    "duration": 54,
    "start_time": "2023-04-03T19:53:12.756Z"
   },
   {
    "duration": 72,
    "start_time": "2023-04-03T19:54:32.234Z"
   },
   {
    "duration": 68,
    "start_time": "2023-04-03T19:55:50.057Z"
   },
   {
    "duration": 64,
    "start_time": "2023-04-03T20:11:14.783Z"
   },
   {
    "duration": 80,
    "start_time": "2023-04-03T20:11:43.477Z"
   },
   {
    "duration": 58,
    "start_time": "2023-04-03T20:11:58.875Z"
   },
   {
    "duration": 8676,
    "start_time": "2023-04-03T20:12:23.286Z"
   },
   {
    "duration": 91,
    "start_time": "2023-04-03T20:12:31.964Z"
   },
   {
    "duration": 17,
    "start_time": "2023-04-03T20:12:32.057Z"
   },
   {
    "duration": 64,
    "start_time": "2023-04-03T20:12:32.076Z"
   },
   {
    "duration": 50,
    "start_time": "2023-04-03T20:12:32.144Z"
   },
   {
    "duration": 25,
    "start_time": "2023-04-03T20:12:32.195Z"
   },
   {
    "duration": 17,
    "start_time": "2023-04-03T20:12:32.221Z"
   },
   {
    "duration": 10,
    "start_time": "2023-04-03T20:12:32.239Z"
   },
   {
    "duration": 30,
    "start_time": "2023-04-03T20:12:32.251Z"
   },
   {
    "duration": 49,
    "start_time": "2023-04-03T20:12:32.283Z"
   },
   {
    "duration": 14,
    "start_time": "2023-04-03T20:12:32.334Z"
   },
   {
    "duration": 18,
    "start_time": "2023-04-03T20:12:32.350Z"
   },
   {
    "duration": 16,
    "start_time": "2023-04-03T20:12:32.370Z"
   },
   {
    "duration": 23,
    "start_time": "2023-04-03T20:14:51.314Z"
   },
   {
    "duration": 97,
    "start_time": "2023-04-03T20:50:25.441Z"
   },
   {
    "duration": 23,
    "start_time": "2023-04-03T20:52:44.674Z"
   },
   {
    "duration": 8,
    "start_time": "2023-04-03T21:10:14.762Z"
   },
   {
    "duration": 85,
    "start_time": "2023-04-03T21:10:14.773Z"
   },
   {
    "duration": 11,
    "start_time": "2023-04-03T21:10:14.859Z"
   },
   {
    "duration": 9,
    "start_time": "2023-04-03T21:10:14.872Z"
   },
   {
    "duration": 15,
    "start_time": "2023-04-03T21:10:14.883Z"
   },
   {
    "duration": 20,
    "start_time": "2023-04-03T21:10:14.900Z"
   },
   {
    "duration": 11,
    "start_time": "2023-04-03T21:10:14.922Z"
   },
   {
    "duration": 9,
    "start_time": "2023-04-03T21:10:14.934Z"
   },
   {
    "duration": 19,
    "start_time": "2023-04-03T21:10:14.945Z"
   },
   {
    "duration": 20,
    "start_time": "2023-04-03T21:10:14.965Z"
   },
   {
    "duration": 51,
    "start_time": "2023-04-03T21:10:14.988Z"
   },
   {
    "duration": 11,
    "start_time": "2023-04-03T21:10:15.040Z"
   },
   {
    "duration": 14,
    "start_time": "2023-04-03T21:10:15.053Z"
   },
   {
    "duration": 12,
    "start_time": "2023-04-03T21:10:15.069Z"
   },
   {
    "duration": 3,
    "start_time": "2023-04-03T21:10:15.083Z"
   },
   {
    "duration": 13,
    "start_time": "2023-04-03T21:10:29.893Z"
   },
   {
    "duration": 61,
    "start_time": "2023-04-03T21:10:29.915Z"
   },
   {
    "duration": 16,
    "start_time": "2023-04-03T21:10:29.978Z"
   },
   {
    "duration": 41,
    "start_time": "2023-04-03T21:10:29.995Z"
   },
   {
    "duration": 11,
    "start_time": "2023-04-03T21:10:30.038Z"
   },
   {
    "duration": 14,
    "start_time": "2023-04-03T21:10:30.051Z"
   },
   {
    "duration": 12,
    "start_time": "2023-04-03T21:10:30.067Z"
   },
   {
    "duration": 49,
    "start_time": "2023-04-03T21:10:30.081Z"
   },
   {
    "duration": 28,
    "start_time": "2023-04-03T21:10:30.132Z"
   },
   {
    "duration": 25,
    "start_time": "2023-04-03T21:10:30.162Z"
   },
   {
    "duration": 53,
    "start_time": "2023-04-03T21:10:30.197Z"
   },
   {
    "duration": 31,
    "start_time": "2023-04-03T21:10:30.251Z"
   },
   {
    "duration": 46,
    "start_time": "2023-04-03T21:10:30.283Z"
   },
   {
    "duration": 23,
    "start_time": "2023-04-03T21:10:30.332Z"
   },
   {
    "duration": 23,
    "start_time": "2023-04-03T21:10:30.356Z"
   },
   {
    "duration": 9,
    "start_time": "2023-04-03T21:13:00.817Z"
   },
   {
    "duration": 113,
    "start_time": "2023-04-03T21:13:00.830Z"
   },
   {
    "duration": 12,
    "start_time": "2023-04-03T21:13:00.944Z"
   },
   {
    "duration": 64,
    "start_time": "2023-04-03T21:13:00.958Z"
   },
   {
    "duration": 48,
    "start_time": "2023-04-03T21:13:01.025Z"
   },
   {
    "duration": 54,
    "start_time": "2023-04-03T21:13:01.074Z"
   },
   {
    "duration": 99,
    "start_time": "2023-04-03T21:13:01.130Z"
   },
   {
    "duration": 48,
    "start_time": "2023-04-03T21:13:01.231Z"
   },
   {
    "duration": 69,
    "start_time": "2023-04-03T21:13:01.281Z"
   },
   {
    "duration": 78,
    "start_time": "2023-04-03T21:13:01.352Z"
   },
   {
    "duration": 34,
    "start_time": "2023-04-03T21:13:01.432Z"
   },
   {
    "duration": 58,
    "start_time": "2023-04-03T21:13:01.468Z"
   },
   {
    "duration": 54,
    "start_time": "2023-04-03T21:13:01.529Z"
   },
   {
    "duration": 70,
    "start_time": "2023-04-03T21:13:01.586Z"
   },
   {
    "duration": 88,
    "start_time": "2023-04-03T21:13:01.658Z"
   },
   {
    "duration": 8838,
    "start_time": "2023-04-04T00:52:40.848Z"
   },
   {
    "duration": 292,
    "start_time": "2023-04-04T00:52:49.688Z"
   },
   {
    "duration": 76,
    "start_time": "2023-04-04T00:52:49.982Z"
   },
   {
    "duration": 75,
    "start_time": "2023-04-04T00:52:50.060Z"
   },
   {
    "duration": 79,
    "start_time": "2023-04-04T00:52:50.137Z"
   },
   {
    "duration": 73,
    "start_time": "2023-04-04T00:52:50.218Z"
   },
   {
    "duration": 72,
    "start_time": "2023-04-04T00:52:50.293Z"
   },
   {
    "duration": 72,
    "start_time": "2023-04-04T00:52:50.367Z"
   },
   {
    "duration": 86,
    "start_time": "2023-04-04T00:52:50.441Z"
   },
   {
    "duration": 81,
    "start_time": "2023-04-04T00:52:50.529Z"
   },
   {
    "duration": 79,
    "start_time": "2023-04-04T00:52:50.611Z"
   },
   {
    "duration": 74,
    "start_time": "2023-04-04T00:52:50.691Z"
   },
   {
    "duration": 73,
    "start_time": "2023-04-04T00:52:50.766Z"
   },
   {
    "duration": 74,
    "start_time": "2023-04-04T00:52:50.840Z"
   },
   {
    "duration": 3,
    "start_time": "2023-04-04T00:52:50.916Z"
   },
   {
    "duration": 85,
    "start_time": "2023-04-04T00:53:05.255Z"
   },
   {
    "duration": 97,
    "start_time": "2023-04-04T00:53:15.325Z"
   },
   {
    "duration": 96,
    "start_time": "2023-04-04T00:53:19.769Z"
   },
   {
    "duration": 97,
    "start_time": "2023-04-04T00:53:21.417Z"
   },
   {
    "duration": 93,
    "start_time": "2023-04-04T00:53:23.129Z"
   },
   {
    "duration": 99,
    "start_time": "2023-04-04T00:53:25.673Z"
   },
   {
    "duration": 10691,
    "start_time": "2023-04-04T05:39:19.661Z"
   },
   {
    "duration": 307,
    "start_time": "2023-04-04T05:39:30.355Z"
   },
   {
    "duration": 78,
    "start_time": "2023-04-04T05:39:30.665Z"
   },
   {
    "duration": 76,
    "start_time": "2023-04-04T05:39:30.747Z"
   },
   {
    "duration": 73,
    "start_time": "2023-04-04T05:39:30.825Z"
   },
   {
    "duration": 75,
    "start_time": "2023-04-04T05:39:30.900Z"
   },
   {
    "duration": 106,
    "start_time": "2023-04-04T05:39:30.978Z"
   },
   {
    "duration": 79,
    "start_time": "2023-04-04T05:39:31.086Z"
   },
   {
    "duration": 114,
    "start_time": "2023-04-04T05:39:31.167Z"
   },
   {
    "duration": 105,
    "start_time": "2023-04-04T05:39:31.284Z"
   },
   {
    "duration": 75,
    "start_time": "2023-04-04T05:39:31.391Z"
   },
   {
    "duration": 75,
    "start_time": "2023-04-04T05:39:31.468Z"
   },
   {
    "duration": 79,
    "start_time": "2023-04-04T05:39:31.545Z"
   },
   {
    "duration": 75,
    "start_time": "2023-04-04T05:39:31.627Z"
   },
   {
    "duration": 4,
    "start_time": "2023-04-04T05:39:31.704Z"
   },
   {
    "duration": 85,
    "start_time": "2023-04-04T05:51:19.307Z"
   },
   {
    "duration": 104,
    "start_time": "2023-04-04T06:07:34.749Z"
   },
   {
    "duration": 96,
    "start_time": "2023-04-04T06:07:52.073Z"
   },
   {
    "duration": 100,
    "start_time": "2023-04-04T06:18:47.724Z"
   },
   {
    "duration": 6,
    "start_time": "2023-04-04T06:25:11.473Z"
   },
   {
    "duration": 283,
    "start_time": "2023-04-04T06:25:11.482Z"
   },
   {
    "duration": 76,
    "start_time": "2023-04-04T06:25:11.767Z"
   },
   {
    "duration": 82,
    "start_time": "2023-04-04T06:25:11.846Z"
   },
   {
    "duration": 75,
    "start_time": "2023-04-04T06:25:11.930Z"
   },
   {
    "duration": 82,
    "start_time": "2023-04-04T06:25:12.008Z"
   },
   {
    "duration": 72,
    "start_time": "2023-04-04T06:25:12.092Z"
   },
   {
    "duration": 71,
    "start_time": "2023-04-04T06:25:12.166Z"
   },
   {
    "duration": 83,
    "start_time": "2023-04-04T06:25:12.240Z"
   },
   {
    "duration": 89,
    "start_time": "2023-04-04T06:25:12.325Z"
   },
   {
    "duration": 77,
    "start_time": "2023-04-04T06:25:12.416Z"
   },
   {
    "duration": 94,
    "start_time": "2023-04-04T06:25:12.495Z"
   },
   {
    "duration": 78,
    "start_time": "2023-04-04T06:25:12.591Z"
   },
   {
    "duration": 76,
    "start_time": "2023-04-04T06:25:12.671Z"
   },
   {
    "duration": 77,
    "start_time": "2023-04-04T06:25:12.749Z"
   },
   {
    "duration": 4,
    "start_time": "2023-04-04T06:25:12.827Z"
   }
  ],
  "colab": {
   "provenance": []
  },
  "kernelspec": {
   "display_name": "Python 3 (ipykernel)",
   "language": "python",
   "name": "python3"
  },
  "language_info": {
   "codemirror_mode": {
    "name": "ipython",
    "version": 3
   },
   "file_extension": ".py",
   "mimetype": "text/x-python",
   "name": "python",
   "nbconvert_exporter": "python",
   "pygments_lexer": "ipython3",
   "version": "3.9.5"
  },
  "toc": {
   "base_numbering": 1,
   "nav_menu": {},
   "number_sections": true,
   "sideBar": true,
   "skip_h1_title": true,
   "title_cell": "Table of Contents",
   "title_sidebar": "Contents",
   "toc_cell": false,
   "toc_position": {},
   "toc_section_display": true,
   "toc_window_display": true
  }
 },
 "nbformat": 4,
 "nbformat_minor": 1
}
